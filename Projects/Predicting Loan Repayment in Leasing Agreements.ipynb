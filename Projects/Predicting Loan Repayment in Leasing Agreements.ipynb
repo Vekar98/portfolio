{
 "cells": [
  {
   "cell_type": "markdown",
   "metadata": {
    "id": "UMCkNUVDcF1P"
   },
   "source": [
    "Import all the necessary libraries"
   ]
  },
  {
   "cell_type": "code",
   "execution_count": 1,
   "metadata": {
    "executionInfo": {
     "elapsed": 220,
     "status": "ok",
     "timestamp": 1672774110454,
     "user": {
      "displayName": "Eve Nightwalker",
      "userId": "02652474989830249227"
     },
     "user_tz": -60
    },
    "id": "u3AJIwubGCuE"
   },
   "outputs": [],
   "source": [
    "import pandas as pd\n",
    "import numpy as np\n",
    "import matplotlib.pyplot as plt\n",
    "import seaborn as sns\n",
    "\n",
    "from sklearn.ensemble import RandomForestClassifier\n",
    "from sklearn.linear_model import LogisticRegression\n",
    "\n",
    "from sklearn.model_selection import train_test_split, cross_val_score, cross_val_predict\n",
    "from sklearn.metrics import confusion_matrix, classification_report, mean_squared_error, accuracy_score\n",
    "\n",
    "# from pandas_profiling import ProfileReport"
   ]
  },
  {
   "cell_type": "markdown",
   "metadata": {
    "id": "1CUtrO_gcLiO"
   },
   "source": [
    "Import files used to train the model"
   ]
  },
  {
   "cell_type": "code",
   "execution_count": 2,
   "metadata": {
    "executionInfo": {
     "elapsed": 59942,
     "status": "ok",
     "timestamp": 1672774171997,
     "user": {
      "displayName": "Eve Nightwalker",
      "userId": "02652474989830249227"
     },
     "user_tz": -60
    },
    "id": "jnPh9BHEalGm"
   },
   "outputs": [],
   "source": [
    "df = pd.read_excel(r'C:\\Users\\barte\\Documents\\probkauczaca.xlsx')"
   ]
  },
  {
   "cell_type": "code",
   "execution_count": 3,
   "metadata": {
    "executionInfo": {
     "elapsed": 23795,
     "status": "ok",
     "timestamp": 1672774195777,
     "user": {
      "displayName": "Eve Nightwalker",
      "userId": "02652474989830249227"
     },
     "user_tz": -60
    },
    "id": "xdXYsrTX29WF"
   },
   "outputs": [],
   "source": [
    "df_2 = pd.read_excel(r'C:\\Users\\barte\\Documents\\probkatestowa.xlsx')"
   ]
  },
  {
   "cell_type": "code",
   "execution_count": 4,
   "metadata": {
    "executionInfo": {
     "elapsed": 21,
     "status": "ok",
     "timestamp": 1672774195778,
     "user": {
      "displayName": "Eve Nightwalker",
      "userId": "02652474989830249227"
     },
     "user_tz": -60
    },
    "id": "zboLTkK83at0"
   },
   "outputs": [],
   "source": [
    "df = pd.concat([df, df_2])"
   ]
  },
  {
   "cell_type": "code",
   "execution_count": 5,
   "metadata": {
    "colab": {
     "base_uri": "https://localhost:8080/",
     "height": 352
    },
    "executionInfo": {
     "elapsed": 20,
     "status": "ok",
     "timestamp": 1672774195778,
     "user": {
      "displayName": "Eve Nightwalker",
      "userId": "02652474989830249227"
     },
     "user_tz": -60
    },
    "id": "WuMn9LpJax9G",
    "outputId": "56386e34-d155-4ec5-d3d5-656d0fc0bd61"
   },
   "outputs": [
    {
     "data": {
      "text/html": [
       "<div>\n",
       "<style scoped>\n",
       "    .dataframe tbody tr th:only-of-type {\n",
       "        vertical-align: middle;\n",
       "    }\n",
       "\n",
       "    .dataframe tbody tr th {\n",
       "        vertical-align: top;\n",
       "    }\n",
       "\n",
       "    .dataframe thead th {\n",
       "        text-align: right;\n",
       "    }\n",
       "</style>\n",
       "<table border=\"1\" class=\"dataframe\">\n",
       "  <thead>\n",
       "    <tr style=\"text-align: right;\">\n",
       "      <th></th>\n",
       "      <th>CNT_ID</th>\n",
       "      <th>Default</th>\n",
       "      <th>Przychody</th>\n",
       "      <th>Suma_bilansowa</th>\n",
       "      <th>Liczba_prawcownikow</th>\n",
       "      <th>OBT_Type2</th>\n",
       "      <th>OBT_IFNEW</th>\n",
       "      <th>Rok_produkcji</th>\n",
       "      <th>Czy_autoryzowany_dostawca</th>\n",
       "      <th>CNT_WPPLN</th>\n",
       "      <th>...</th>\n",
       "      <th>WojewodztwoLU</th>\n",
       "      <th>GenezaSpolecznosci_ZO</th>\n",
       "      <th>GenezaSpolecznosci_ZN</th>\n",
       "      <th>GenezaSpolecznosci_ZA</th>\n",
       "      <th>GenezaSpolecznosci_ZR</th>\n",
       "      <th>GenezaSpolecznosci_WS</th>\n",
       "      <th>Poglady_PP</th>\n",
       "      <th>Poglady_X</th>\n",
       "      <th>Auto_luksusowe</th>\n",
       "      <th>Branza</th>\n",
       "    </tr>\n",
       "  </thead>\n",
       "  <tbody>\n",
       "    <tr>\n",
       "      <th>0</th>\n",
       "      <td>2</td>\n",
       "      <td>0</td>\n",
       "      <td>0</td>\n",
       "      <td>0</td>\n",
       "      <td>0</td>\n",
       "      <td>Cars</td>\n",
       "      <td>New</td>\n",
       "      <td>0</td>\n",
       "      <td>T</td>\n",
       "      <td>77282.79</td>\n",
       "      <td>...</td>\n",
       "      <td>0.0</td>\n",
       "      <td>0.0</td>\n",
       "      <td>0.0</td>\n",
       "      <td>0.0</td>\n",
       "      <td>1.0</td>\n",
       "      <td>0.0</td>\n",
       "      <td>0.0</td>\n",
       "      <td>1.0</td>\n",
       "      <td>NaN</td>\n",
       "      <td>Handel</td>\n",
       "    </tr>\n",
       "    <tr>\n",
       "      <th>1</th>\n",
       "      <td>41</td>\n",
       "      <td>1</td>\n",
       "      <td>0</td>\n",
       "      <td>0</td>\n",
       "      <td>1</td>\n",
       "      <td>Truck &amp; Trailer</td>\n",
       "      <td>New</td>\n",
       "      <td>0</td>\n",
       "      <td>N</td>\n",
       "      <td>115600.00</td>\n",
       "      <td>...</td>\n",
       "      <td>0.0</td>\n",
       "      <td>0.0</td>\n",
       "      <td>0.0</td>\n",
       "      <td>0.0</td>\n",
       "      <td>1.0</td>\n",
       "      <td>0.0</td>\n",
       "      <td>0.0</td>\n",
       "      <td>1.0</td>\n",
       "      <td>NaN</td>\n",
       "      <td>Handel</td>\n",
       "    </tr>\n",
       "    <tr>\n",
       "      <th>2</th>\n",
       "      <td>61</td>\n",
       "      <td>0</td>\n",
       "      <td>0</td>\n",
       "      <td>0</td>\n",
       "      <td>0</td>\n",
       "      <td>Cars</td>\n",
       "      <td>New</td>\n",
       "      <td>0</td>\n",
       "      <td>T</td>\n",
       "      <td>77282.79</td>\n",
       "      <td>...</td>\n",
       "      <td>0.0</td>\n",
       "      <td>0.0</td>\n",
       "      <td>0.0</td>\n",
       "      <td>0.0</td>\n",
       "      <td>1.0</td>\n",
       "      <td>0.0</td>\n",
       "      <td>0.0</td>\n",
       "      <td>1.0</td>\n",
       "      <td>NaN</td>\n",
       "      <td>Handel</td>\n",
       "    </tr>\n",
       "    <tr>\n",
       "      <th>3</th>\n",
       "      <td>121</td>\n",
       "      <td>0</td>\n",
       "      <td>0</td>\n",
       "      <td>0</td>\n",
       "      <td>1</td>\n",
       "      <td>Truck &amp; Trailer</td>\n",
       "      <td>New</td>\n",
       "      <td>0</td>\n",
       "      <td>N</td>\n",
       "      <td>111552.64</td>\n",
       "      <td>...</td>\n",
       "      <td>0.0</td>\n",
       "      <td>0.0</td>\n",
       "      <td>0.0</td>\n",
       "      <td>0.0</td>\n",
       "      <td>1.0</td>\n",
       "      <td>0.0</td>\n",
       "      <td>0.0</td>\n",
       "      <td>1.0</td>\n",
       "      <td>NaN</td>\n",
       "      <td>Transport</td>\n",
       "    </tr>\n",
       "    <tr>\n",
       "      <th>4</th>\n",
       "      <td>241</td>\n",
       "      <td>1</td>\n",
       "      <td>3150000</td>\n",
       "      <td>0</td>\n",
       "      <td>15</td>\n",
       "      <td>Truck &amp; Trailer</td>\n",
       "      <td>New</td>\n",
       "      <td>0</td>\n",
       "      <td>N</td>\n",
       "      <td>469589.40</td>\n",
       "      <td>...</td>\n",
       "      <td>0.0</td>\n",
       "      <td>0.0</td>\n",
       "      <td>0.0</td>\n",
       "      <td>0.0</td>\n",
       "      <td>0.0</td>\n",
       "      <td>1.0</td>\n",
       "      <td>0.0</td>\n",
       "      <td>1.0</td>\n",
       "      <td>NaN</td>\n",
       "      <td>Usługi</td>\n",
       "    </tr>\n",
       "  </tbody>\n",
       "</table>\n",
       "<p>5 rows × 417 columns</p>\n",
       "</div>"
      ],
      "text/plain": [
       "   CNT_ID  Default  Przychody  Suma_bilansowa  Liczba_prawcownikow  \\\n",
       "0       2        0          0               0                    0   \n",
       "1      41        1          0               0                    1   \n",
       "2      61        0          0               0                    0   \n",
       "3     121        0          0               0                    1   \n",
       "4     241        1    3150000               0                   15   \n",
       "\n",
       "         OBT_Type2 OBT_IFNEW  Rok_produkcji Czy_autoryzowany_dostawca  \\\n",
       "0             Cars       New              0                         T   \n",
       "1  Truck & Trailer       New              0                         N   \n",
       "2             Cars       New              0                         T   \n",
       "3  Truck & Trailer       New              0                         N   \n",
       "4  Truck & Trailer       New              0                         N   \n",
       "\n",
       "   CNT_WPPLN  ...  WojewodztwoLU  GenezaSpolecznosci_ZO  \\\n",
       "0   77282.79  ...            0.0                    0.0   \n",
       "1  115600.00  ...            0.0                    0.0   \n",
       "2   77282.79  ...            0.0                    0.0   \n",
       "3  111552.64  ...            0.0                    0.0   \n",
       "4  469589.40  ...            0.0                    0.0   \n",
       "\n",
       "   GenezaSpolecznosci_ZN  GenezaSpolecznosci_ZA  GenezaSpolecznosci_ZR  \\\n",
       "0                    0.0                    0.0                    1.0   \n",
       "1                    0.0                    0.0                    1.0   \n",
       "2                    0.0                    0.0                    1.0   \n",
       "3                    0.0                    0.0                    1.0   \n",
       "4                    0.0                    0.0                    0.0   \n",
       "\n",
       "  GenezaSpolecznosci_WS Poglady_PP Poglady_X Auto_luksusowe     Branza  \n",
       "0                   0.0        0.0       1.0            NaN     Handel  \n",
       "1                   0.0        0.0       1.0            NaN     Handel  \n",
       "2                   0.0        0.0       1.0            NaN     Handel  \n",
       "3                   0.0        0.0       1.0            NaN  Transport  \n",
       "4                   1.0        0.0       1.0            NaN     Usługi  \n",
       "\n",
       "[5 rows x 417 columns]"
      ]
     },
     "execution_count": 5,
     "metadata": {},
     "output_type": "execute_result"
    }
   ],
   "source": [
    "df.head()"
   ]
  },
  {
   "cell_type": "code",
   "execution_count": 6,
   "metadata": {
    "executionInfo": {
     "elapsed": 8,
     "status": "ok",
     "timestamp": 1672774195779,
     "user": {
      "displayName": "Eve Nightwalker",
      "userId": "02652474989830249227"
     },
     "user_tz": -60
    },
    "id": "ncxmLfGUcg83"
   },
   "outputs": [],
   "source": [
    "#!pip install https://github.com/ydataai/pandas-profiling/archive/master.zip"
   ]
  },
  {
   "cell_type": "code",
   "execution_count": 7,
   "metadata": {
    "executionInfo": {
     "elapsed": 9,
     "status": "ok",
     "timestamp": 1672774195780,
     "user": {
      "displayName": "Eve Nightwalker",
      "userId": "02652474989830249227"
     },
     "user_tz": -60
    },
    "id": "0QzRckyhb0l2"
   },
   "outputs": [],
   "source": [
    "#prof = ProfileReport(df)\n",
    "#prof.to_file(output_file='output.html')"
   ]
  },
  {
   "cell_type": "markdown",
   "metadata": {
    "id": "LivkQawshbcR"
   },
   "source": [
    "Creating a correlation matrix using the Spearman method in case of outliers"
   ]
  },
  {
   "cell_type": "code",
   "execution_count": 8,
   "metadata": {
    "executionInfo": {
     "elapsed": 37734,
     "status": "ok",
     "timestamp": 1672774233505,
     "user": {
      "displayName": "Eve Nightwalker",
      "userId": "02652474989830249227"
     },
     "user_tz": -60
    },
    "id": "CWeVvfSGfWtA"
   },
   "outputs": [
    {
     "name": "stderr",
     "output_type": "stream",
     "text": [
      "C:\\Users\\barte\\AppData\\Local\\Temp\\ipykernel_3872\\299807053.py:1: FutureWarning: The default value of numeric_only in DataFrame.corr is deprecated. In a future version, it will default to False. Select only valid columns or specify the value of numeric_only to silence this warning.\n",
      "  correlation = df.corr(method = 'spearman')\n"
     ]
    }
   ],
   "source": [
    "correlation = df.corr(method = 'spearman')"
   ]
  },
  {
   "cell_type": "code",
   "execution_count": 9,
   "metadata": {
    "colab": {
     "base_uri": "https://localhost:8080/"
    },
    "executionInfo": {
     "elapsed": 32,
     "status": "ok",
     "timestamp": 1672774233505,
     "user": {
      "displayName": "Eve Nightwalker",
      "userId": "02652474989830249227"
     },
     "user_tz": -60
    },
    "id": "Oi8O8kqIhfEg",
    "outputId": "53982629-5c49-4c79-a862-3fb74333308a"
   },
   "outputs": [
    {
     "data": {
      "text/plain": [
       "C16_Mcy_od_poczatku_nieaktywnosci   -0.793857\n",
       "C18_Mcy_od_Zmiana_adresu            -0.287567\n",
       "Przychody                           -0.231880\n",
       "C20_Mcy_od_Zmiana_wlascicieli       -0.222563\n",
       "C07_Liczba_osob_w_zarzadzie         -0.210779\n",
       "                                       ...   \n",
       "P_KodP_13                                 NaN\n",
       "P_KodP_17                                 NaN\n",
       "P_KodP_68                                 NaN\n",
       "P_KodP_79                                 NaN\n",
       "Auto_luksusowe                            NaN\n",
       "Name: Default, Length: 401, dtype: float64"
      ]
     },
     "execution_count": 9,
     "metadata": {},
     "output_type": "execute_result"
    }
   ],
   "source": [
    "correlation['Default'].sort_values()"
   ]
  },
  {
   "cell_type": "code",
   "execution_count": 10,
   "metadata": {
    "colab": {
     "base_uri": "https://localhost:8080/"
    },
    "executionInfo": {
     "elapsed": 19,
     "status": "ok",
     "timestamp": 1672774233506,
     "user": {
      "displayName": "Eve Nightwalker",
      "userId": "02652474989830249227"
     },
     "user_tz": -60
    },
    "id": "H-Uuuz1micw5",
    "outputId": "9d9694ca-fc46-4225-e0d0-4c6cffd915ab"
   },
   "outputs": [
    {
     "name": "stdout",
     "output_type": "stream",
     "text": [
      "<class 'pandas.core.frame.DataFrame'>\n",
      "Int64Index: 14000 entries, 0 to 3999\n",
      "Columns: 417 entries, CNT_ID to Branza\n",
      "dtypes: float64(389), int64(12), object(16)\n",
      "memory usage: 44.6+ MB\n"
     ]
    }
   ],
   "source": [
    "df.info()"
   ]
  },
  {
   "cell_type": "code",
   "execution_count": 11,
   "metadata": {
    "colab": {
     "base_uri": "https://localhost:8080/"
    },
    "executionInfo": {
     "elapsed": 16,
     "status": "ok",
     "timestamp": 1672774233506,
     "user": {
      "displayName": "Eve Nightwalker",
      "userId": "02652474989830249227"
     },
     "user_tz": -60
    },
    "id": "CUWd06XKjKJZ",
    "outputId": "52c42537-7c8f-471e-fd5c-f03d4912e36e"
   },
   "outputs": [
    {
     "data": {
      "text/plain": [
       "(14000, 417)"
      ]
     },
     "execution_count": 11,
     "metadata": {},
     "output_type": "execute_result"
    }
   ],
   "source": [
    "df.shape"
   ]
  },
  {
   "cell_type": "code",
   "execution_count": 12,
   "metadata": {
    "colab": {
     "base_uri": "https://localhost:8080/"
    },
    "executionInfo": {
     "elapsed": 15,
     "status": "ok",
     "timestamp": 1672774233507,
     "user": {
      "displayName": "Eve Nightwalker",
      "userId": "02652474989830249227"
     },
     "user_tz": -60
    },
    "id": "lMsT_V2RjOs5",
    "outputId": "bea356b6-a325-45c1-8d0d-b8ed8930bbbe"
   },
   "outputs": [
    {
     "data": {
      "text/plain": [
       "0    10500\n",
       "1     3500\n",
       "Name: Default, dtype: int64"
      ]
     },
     "execution_count": 12,
     "metadata": {},
     "output_type": "execute_result"
    }
   ],
   "source": [
    "df['Default'].value_counts(dropna=False)"
   ]
  },
  {
   "cell_type": "code",
   "execution_count": 13,
   "metadata": {
    "colab": {
     "base_uri": "https://localhost:8080/"
    },
    "executionInfo": {
     "elapsed": 13,
     "status": "ok",
     "timestamp": 1672774233507,
     "user": {
      "displayName": "Eve Nightwalker",
      "userId": "02652474989830249227"
     },
     "user_tz": -60
    },
    "id": "UhwFqb83jS6R",
    "outputId": "65987637-dd2e-48a5-93f9-ce76d9dc0dec"
   },
   "outputs": [
    {
     "data": {
      "text/plain": [
       "CNT_ID                   0.000000\n",
       "Default                  0.000000\n",
       "Przychody                0.000000\n",
       "Suma_bilansowa           0.000000\n",
       "Liczba_prawcownikow      0.000000\n",
       "                           ...   \n",
       "GenezaSpolecznosci_WS    0.143714\n",
       "Poglady_PP               0.143714\n",
       "Poglady_X                0.143714\n",
       "Auto_luksusowe           0.976929\n",
       "Branza                   0.000000\n",
       "Length: 417, dtype: float64"
      ]
     },
     "execution_count": 13,
     "metadata": {},
     "output_type": "execute_result"
    }
   ],
   "source": [
    "df.isnull().mean()"
   ]
  },
  {
   "cell_type": "markdown",
   "metadata": {
    "id": "5Gz5-j-3lBOU"
   },
   "source": [
    "Replacing all NULLs with zeros"
   ]
  },
  {
   "cell_type": "code",
   "execution_count": 14,
   "metadata": {
    "executionInfo": {
     "elapsed": 356,
     "status": "ok",
     "timestamp": 1672774233851,
     "user": {
      "displayName": "Eve Nightwalker",
      "userId": "02652474989830249227"
     },
     "user_tz": -60
    },
    "id": "6k3zdnGPjXiq"
   },
   "outputs": [],
   "source": [
    "df = df.fillna(-1)"
   ]
  },
  {
   "cell_type": "code",
   "execution_count": 15,
   "metadata": {
    "colab": {
     "base_uri": "https://localhost:8080/",
     "height": 574
    },
    "executionInfo": {
     "elapsed": 13,
     "status": "ok",
     "timestamp": 1672774233854,
     "user": {
      "displayName": "Eve Nightwalker",
      "userId": "02652474989830249227"
     },
     "user_tz": -60
    },
    "id": "jmE_vEhulIwR",
    "outputId": "10773a72-c646-4adc-d1f6-e3eea64553dd"
   },
   "outputs": [
    {
     "data": {
      "text/html": [
       "<div>\n",
       "<style scoped>\n",
       "    .dataframe tbody tr th:only-of-type {\n",
       "        vertical-align: middle;\n",
       "    }\n",
       "\n",
       "    .dataframe tbody tr th {\n",
       "        vertical-align: top;\n",
       "    }\n",
       "\n",
       "    .dataframe thead th {\n",
       "        text-align: right;\n",
       "    }\n",
       "</style>\n",
       "<table border=\"1\" class=\"dataframe\">\n",
       "  <thead>\n",
       "    <tr style=\"text-align: right;\">\n",
       "      <th></th>\n",
       "      <th>CNT_ID</th>\n",
       "      <th>Default</th>\n",
       "      <th>Przychody</th>\n",
       "      <th>Suma_bilansowa</th>\n",
       "      <th>Liczba_prawcownikow</th>\n",
       "      <th>OBT_Type2</th>\n",
       "      <th>OBT_IFNEW</th>\n",
       "      <th>Rok_produkcji</th>\n",
       "      <th>Czy_autoryzowany_dostawca</th>\n",
       "      <th>CNT_WPPLN</th>\n",
       "      <th>...</th>\n",
       "      <th>WojewodztwoLU</th>\n",
       "      <th>GenezaSpolecznosci_ZO</th>\n",
       "      <th>GenezaSpolecznosci_ZN</th>\n",
       "      <th>GenezaSpolecznosci_ZA</th>\n",
       "      <th>GenezaSpolecznosci_ZR</th>\n",
       "      <th>GenezaSpolecznosci_WS</th>\n",
       "      <th>Poglady_PP</th>\n",
       "      <th>Poglady_X</th>\n",
       "      <th>Auto_luksusowe</th>\n",
       "      <th>Branza</th>\n",
       "    </tr>\n",
       "  </thead>\n",
       "  <tbody>\n",
       "    <tr>\n",
       "      <th>0</th>\n",
       "      <td>2</td>\n",
       "      <td>0</td>\n",
       "      <td>0</td>\n",
       "      <td>0</td>\n",
       "      <td>0</td>\n",
       "      <td>Cars</td>\n",
       "      <td>New</td>\n",
       "      <td>0</td>\n",
       "      <td>T</td>\n",
       "      <td>77282.79</td>\n",
       "      <td>...</td>\n",
       "      <td>0.0</td>\n",
       "      <td>0.0</td>\n",
       "      <td>0.0</td>\n",
       "      <td>0.0</td>\n",
       "      <td>1.0</td>\n",
       "      <td>0.0</td>\n",
       "      <td>0.0</td>\n",
       "      <td>1.0</td>\n",
       "      <td>-1.0</td>\n",
       "      <td>Handel</td>\n",
       "    </tr>\n",
       "    <tr>\n",
       "      <th>1</th>\n",
       "      <td>41</td>\n",
       "      <td>1</td>\n",
       "      <td>0</td>\n",
       "      <td>0</td>\n",
       "      <td>1</td>\n",
       "      <td>Truck &amp; Trailer</td>\n",
       "      <td>New</td>\n",
       "      <td>0</td>\n",
       "      <td>N</td>\n",
       "      <td>115600.00</td>\n",
       "      <td>...</td>\n",
       "      <td>0.0</td>\n",
       "      <td>0.0</td>\n",
       "      <td>0.0</td>\n",
       "      <td>0.0</td>\n",
       "      <td>1.0</td>\n",
       "      <td>0.0</td>\n",
       "      <td>0.0</td>\n",
       "      <td>1.0</td>\n",
       "      <td>-1.0</td>\n",
       "      <td>Handel</td>\n",
       "    </tr>\n",
       "    <tr>\n",
       "      <th>2</th>\n",
       "      <td>61</td>\n",
       "      <td>0</td>\n",
       "      <td>0</td>\n",
       "      <td>0</td>\n",
       "      <td>0</td>\n",
       "      <td>Cars</td>\n",
       "      <td>New</td>\n",
       "      <td>0</td>\n",
       "      <td>T</td>\n",
       "      <td>77282.79</td>\n",
       "      <td>...</td>\n",
       "      <td>0.0</td>\n",
       "      <td>0.0</td>\n",
       "      <td>0.0</td>\n",
       "      <td>0.0</td>\n",
       "      <td>1.0</td>\n",
       "      <td>0.0</td>\n",
       "      <td>0.0</td>\n",
       "      <td>1.0</td>\n",
       "      <td>-1.0</td>\n",
       "      <td>Handel</td>\n",
       "    </tr>\n",
       "    <tr>\n",
       "      <th>3</th>\n",
       "      <td>121</td>\n",
       "      <td>0</td>\n",
       "      <td>0</td>\n",
       "      <td>0</td>\n",
       "      <td>1</td>\n",
       "      <td>Truck &amp; Trailer</td>\n",
       "      <td>New</td>\n",
       "      <td>0</td>\n",
       "      <td>N</td>\n",
       "      <td>111552.64</td>\n",
       "      <td>...</td>\n",
       "      <td>0.0</td>\n",
       "      <td>0.0</td>\n",
       "      <td>0.0</td>\n",
       "      <td>0.0</td>\n",
       "      <td>1.0</td>\n",
       "      <td>0.0</td>\n",
       "      <td>0.0</td>\n",
       "      <td>1.0</td>\n",
       "      <td>-1.0</td>\n",
       "      <td>Transport</td>\n",
       "    </tr>\n",
       "    <tr>\n",
       "      <th>4</th>\n",
       "      <td>241</td>\n",
       "      <td>1</td>\n",
       "      <td>3150000</td>\n",
       "      <td>0</td>\n",
       "      <td>15</td>\n",
       "      <td>Truck &amp; Trailer</td>\n",
       "      <td>New</td>\n",
       "      <td>0</td>\n",
       "      <td>N</td>\n",
       "      <td>469589.40</td>\n",
       "      <td>...</td>\n",
       "      <td>0.0</td>\n",
       "      <td>0.0</td>\n",
       "      <td>0.0</td>\n",
       "      <td>0.0</td>\n",
       "      <td>0.0</td>\n",
       "      <td>1.0</td>\n",
       "      <td>0.0</td>\n",
       "      <td>1.0</td>\n",
       "      <td>-1.0</td>\n",
       "      <td>Usługi</td>\n",
       "    </tr>\n",
       "    <tr>\n",
       "      <th>...</th>\n",
       "      <td>...</td>\n",
       "      <td>...</td>\n",
       "      <td>...</td>\n",
       "      <td>...</td>\n",
       "      <td>...</td>\n",
       "      <td>...</td>\n",
       "      <td>...</td>\n",
       "      <td>...</td>\n",
       "      <td>...</td>\n",
       "      <td>...</td>\n",
       "      <td>...</td>\n",
       "      <td>...</td>\n",
       "      <td>...</td>\n",
       "      <td>...</td>\n",
       "      <td>...</td>\n",
       "      <td>...</td>\n",
       "      <td>...</td>\n",
       "      <td>...</td>\n",
       "      <td>...</td>\n",
       "      <td>...</td>\n",
       "      <td>...</td>\n",
       "    </tr>\n",
       "    <tr>\n",
       "      <th>3995</th>\n",
       "      <td>92379</td>\n",
       "      <td>1</td>\n",
       "      <td>0</td>\n",
       "      <td>0</td>\n",
       "      <td>33</td>\n",
       "      <td>Truck &amp; Trailer</td>\n",
       "      <td>New</td>\n",
       "      <td>0</td>\n",
       "      <td>T</td>\n",
       "      <td>90338.82</td>\n",
       "      <td>...</td>\n",
       "      <td>0.0</td>\n",
       "      <td>0.0</td>\n",
       "      <td>0.0</td>\n",
       "      <td>1.0</td>\n",
       "      <td>0.0</td>\n",
       "      <td>0.0</td>\n",
       "      <td>1.0</td>\n",
       "      <td>0.0</td>\n",
       "      <td>-1.0</td>\n",
       "      <td>Transport</td>\n",
       "    </tr>\n",
       "    <tr>\n",
       "      <th>3996</th>\n",
       "      <td>92809</td>\n",
       "      <td>0</td>\n",
       "      <td>989776</td>\n",
       "      <td>0</td>\n",
       "      <td>11</td>\n",
       "      <td>Cars</td>\n",
       "      <td>New</td>\n",
       "      <td>0</td>\n",
       "      <td>T</td>\n",
       "      <td>36016.26</td>\n",
       "      <td>...</td>\n",
       "      <td>-1.0</td>\n",
       "      <td>-1.0</td>\n",
       "      <td>-1.0</td>\n",
       "      <td>-1.0</td>\n",
       "      <td>-1.0</td>\n",
       "      <td>-1.0</td>\n",
       "      <td>-1.0</td>\n",
       "      <td>-1.0</td>\n",
       "      <td>-1.0</td>\n",
       "      <td>Medycyna</td>\n",
       "    </tr>\n",
       "    <tr>\n",
       "      <th>3997</th>\n",
       "      <td>93770</td>\n",
       "      <td>0</td>\n",
       "      <td>16014354</td>\n",
       "      <td>9112929</td>\n",
       "      <td>49</td>\n",
       "      <td>Truck &amp; Trailer</td>\n",
       "      <td>Used</td>\n",
       "      <td>1</td>\n",
       "      <td>N</td>\n",
       "      <td>274625.00</td>\n",
       "      <td>...</td>\n",
       "      <td>0.0</td>\n",
       "      <td>0.0</td>\n",
       "      <td>0.0</td>\n",
       "      <td>0.0</td>\n",
       "      <td>1.0</td>\n",
       "      <td>0.0</td>\n",
       "      <td>0.0</td>\n",
       "      <td>1.0</td>\n",
       "      <td>-1.0</td>\n",
       "      <td>Transport</td>\n",
       "    </tr>\n",
       "    <tr>\n",
       "      <th>3998</th>\n",
       "      <td>93864</td>\n",
       "      <td>0</td>\n",
       "      <td>0</td>\n",
       "      <td>0</td>\n",
       "      <td>1</td>\n",
       "      <td>Cars</td>\n",
       "      <td>New</td>\n",
       "      <td>0</td>\n",
       "      <td>T</td>\n",
       "      <td>54390.24</td>\n",
       "      <td>...</td>\n",
       "      <td>-1.0</td>\n",
       "      <td>-1.0</td>\n",
       "      <td>-1.0</td>\n",
       "      <td>-1.0</td>\n",
       "      <td>-1.0</td>\n",
       "      <td>-1.0</td>\n",
       "      <td>-1.0</td>\n",
       "      <td>-1.0</td>\n",
       "      <td>-1.0</td>\n",
       "      <td>Budownictwo</td>\n",
       "    </tr>\n",
       "    <tr>\n",
       "      <th>3999</th>\n",
       "      <td>93866</td>\n",
       "      <td>0</td>\n",
       "      <td>0</td>\n",
       "      <td>0</td>\n",
       "      <td>1</td>\n",
       "      <td>Cars</td>\n",
       "      <td>New</td>\n",
       "      <td>0</td>\n",
       "      <td>T</td>\n",
       "      <td>357448.78</td>\n",
       "      <td>...</td>\n",
       "      <td>0.0</td>\n",
       "      <td>0.0</td>\n",
       "      <td>1.0</td>\n",
       "      <td>0.0</td>\n",
       "      <td>0.0</td>\n",
       "      <td>0.0</td>\n",
       "      <td>0.0</td>\n",
       "      <td>1.0</td>\n",
       "      <td>1.0</td>\n",
       "      <td>Budownictwo</td>\n",
       "    </tr>\n",
       "  </tbody>\n",
       "</table>\n",
       "<p>14000 rows × 417 columns</p>\n",
       "</div>"
      ],
      "text/plain": [
       "      CNT_ID  Default  Przychody  Suma_bilansowa  Liczba_prawcownikow  \\\n",
       "0          2        0          0               0                    0   \n",
       "1         41        1          0               0                    1   \n",
       "2         61        0          0               0                    0   \n",
       "3        121        0          0               0                    1   \n",
       "4        241        1    3150000               0                   15   \n",
       "...      ...      ...        ...             ...                  ...   \n",
       "3995   92379        1          0               0                   33   \n",
       "3996   92809        0     989776               0                   11   \n",
       "3997   93770        0   16014354         9112929                   49   \n",
       "3998   93864        0          0               0                    1   \n",
       "3999   93866        0          0               0                    1   \n",
       "\n",
       "            OBT_Type2 OBT_IFNEW  Rok_produkcji Czy_autoryzowany_dostawca  \\\n",
       "0                Cars       New              0                         T   \n",
       "1     Truck & Trailer       New              0                         N   \n",
       "2                Cars       New              0                         T   \n",
       "3     Truck & Trailer       New              0                         N   \n",
       "4     Truck & Trailer       New              0                         N   \n",
       "...               ...       ...            ...                       ...   \n",
       "3995  Truck & Trailer       New              0                         T   \n",
       "3996             Cars       New              0                         T   \n",
       "3997  Truck & Trailer      Used              1                         N   \n",
       "3998             Cars       New              0                         T   \n",
       "3999             Cars       New              0                         T   \n",
       "\n",
       "      CNT_WPPLN  ...  WojewodztwoLU  GenezaSpolecznosci_ZO  \\\n",
       "0      77282.79  ...            0.0                    0.0   \n",
       "1     115600.00  ...            0.0                    0.0   \n",
       "2      77282.79  ...            0.0                    0.0   \n",
       "3     111552.64  ...            0.0                    0.0   \n",
       "4     469589.40  ...            0.0                    0.0   \n",
       "...         ...  ...            ...                    ...   \n",
       "3995   90338.82  ...            0.0                    0.0   \n",
       "3996   36016.26  ...           -1.0                   -1.0   \n",
       "3997  274625.00  ...            0.0                    0.0   \n",
       "3998   54390.24  ...           -1.0                   -1.0   \n",
       "3999  357448.78  ...            0.0                    0.0   \n",
       "\n",
       "      GenezaSpolecznosci_ZN  GenezaSpolecznosci_ZA  GenezaSpolecznosci_ZR  \\\n",
       "0                       0.0                    0.0                    1.0   \n",
       "1                       0.0                    0.0                    1.0   \n",
       "2                       0.0                    0.0                    1.0   \n",
       "3                       0.0                    0.0                    1.0   \n",
       "4                       0.0                    0.0                    0.0   \n",
       "...                     ...                    ...                    ...   \n",
       "3995                    0.0                    1.0                    0.0   \n",
       "3996                   -1.0                   -1.0                   -1.0   \n",
       "3997                    0.0                    0.0                    1.0   \n",
       "3998                   -1.0                   -1.0                   -1.0   \n",
       "3999                    1.0                    0.0                    0.0   \n",
       "\n",
       "     GenezaSpolecznosci_WS Poglady_PP Poglady_X Auto_luksusowe       Branza  \n",
       "0                      0.0        0.0       1.0           -1.0       Handel  \n",
       "1                      0.0        0.0       1.0           -1.0       Handel  \n",
       "2                      0.0        0.0       1.0           -1.0       Handel  \n",
       "3                      0.0        0.0       1.0           -1.0    Transport  \n",
       "4                      1.0        0.0       1.0           -1.0       Usługi  \n",
       "...                    ...        ...       ...            ...          ...  \n",
       "3995                   0.0        1.0       0.0           -1.0    Transport  \n",
       "3996                  -1.0       -1.0      -1.0           -1.0     Medycyna  \n",
       "3997                   0.0        0.0       1.0           -1.0    Transport  \n",
       "3998                  -1.0       -1.0      -1.0           -1.0  Budownictwo  \n",
       "3999                   0.0        0.0       1.0            1.0  Budownictwo  \n",
       "\n",
       "[14000 rows x 417 columns]"
      ]
     },
     "execution_count": 15,
     "metadata": {},
     "output_type": "execute_result"
    }
   ],
   "source": [
    "df"
   ]
  },
  {
   "cell_type": "code",
   "execution_count": 16,
   "metadata": {
    "colab": {
     "base_uri": "https://localhost:8080/"
    },
    "executionInfo": {
     "elapsed": 13,
     "status": "ok",
     "timestamp": 1672774233856,
     "user": {
      "displayName": "Eve Nightwalker",
      "userId": "02652474989830249227"
     },
     "user_tz": -60
    },
    "id": "r2Hqaj32lJxh",
    "outputId": "c32794c2-b8f5-4f0d-ce62-eeb7d3fe7e87"
   },
   "outputs": [
    {
     "data": {
      "text/plain": [
       "CNT_ID                   0.0\n",
       "Default                  0.0\n",
       "Przychody                0.0\n",
       "Suma_bilansowa           0.0\n",
       "Liczba_prawcownikow      0.0\n",
       "                        ... \n",
       "GenezaSpolecznosci_WS    0.0\n",
       "Poglady_PP               0.0\n",
       "Poglady_X                0.0\n",
       "Auto_luksusowe           0.0\n",
       "Branza                   0.0\n",
       "Length: 417, dtype: float64"
      ]
     },
     "execution_count": 16,
     "metadata": {},
     "output_type": "execute_result"
    }
   ],
   "source": [
    "df.isnull().mean()"
   ]
  },
  {
   "cell_type": "code",
   "execution_count": 17,
   "metadata": {
    "executionInfo": {
     "elapsed": 12030,
     "status": "ok",
     "timestamp": 1672774245875,
     "user": {
      "displayName": "Eve Nightwalker",
      "userId": "02652474989830249227"
     },
     "user_tz": -60
    },
    "id": "hZlGBxXxrLsL"
   },
   "outputs": [
    {
     "name": "stderr",
     "output_type": "stream",
     "text": [
      "C:\\Users\\barte\\AppData\\Local\\Temp\\ipykernel_3872\\2781342699.py:1: FutureWarning: The default value of numeric_only in DataFrame.corr is deprecated. In a future version, it will default to False. Select only valid columns or specify the value of numeric_only to silence this warning.\n",
      "  correlation_2 = df.corr(method = 'spearman')\n"
     ]
    }
   ],
   "source": [
    "correlation_2 = df.corr(method = 'spearman')"
   ]
  },
  {
   "cell_type": "code",
   "execution_count": 18,
   "metadata": {
    "colab": {
     "base_uri": "https://localhost:8080/"
    },
    "executionInfo": {
     "elapsed": 17,
     "status": "ok",
     "timestamp": 1672774245875,
     "user": {
      "displayName": "Eve Nightwalker",
      "userId": "02652474989830249227"
     },
     "user_tz": -60
    },
    "id": "lb8Wlq9lpElL",
    "outputId": "f6f1b63d-8ed5-42e8-d4de-311398cb2478"
   },
   "outputs": [
    {
     "data": {
      "text/plain": [
       "Przychody                      -0.231880\n",
       "Suma_bilansowa                 -0.183375\n",
       "Liczba_prawcownikow            -0.179979\n",
       "CzasDzialalnosciMce            -0.172945\n",
       "CNT_ID                         -0.163832\n",
       "                                  ...   \n",
       "MARZA                           0.216023\n",
       "Okres_umowy                     0.233063\n",
       "S06_Nie_jest_podatnikiem_VAT    0.453389\n",
       "Default                         1.000000\n",
       "S38_Czarna_lista_powiazane           NaN\n",
       "Name: Default, Length: 401, dtype: float64"
      ]
     },
     "execution_count": 18,
     "metadata": {},
     "output_type": "execute_result"
    }
   ],
   "source": [
    "correlation_2['Default'].sort_values()"
   ]
  },
  {
   "cell_type": "markdown",
   "metadata": {
    "id": "CBMs6HM4q51E"
   },
   "source": [
    "Now let's remove all columns that contain only -1"
   ]
  },
  {
   "cell_type": "code",
   "execution_count": 19,
   "metadata": {
    "executionInfo": {
     "elapsed": 15,
     "status": "ok",
     "timestamp": 1672774245876,
     "user": {
      "displayName": "Eve Nightwalker",
      "userId": "02652474989830249227"
     },
     "user_tz": -60
    },
    "id": "wkm_tiWNq_ea"
   },
   "outputs": [],
   "source": [
    "df = df.drop(columns=df.columns[(df == -1).all()])"
   ]
  },
  {
   "cell_type": "code",
   "execution_count": 20,
   "metadata": {
    "colab": {
     "base_uri": "https://localhost:8080/",
     "height": 574
    },
    "executionInfo": {
     "elapsed": 376,
     "status": "ok",
     "timestamp": 1672774246237,
     "user": {
      "displayName": "Eve Nightwalker",
      "userId": "02652474989830249227"
     },
     "user_tz": -60
    },
    "id": "_kTvbtPprEYa",
    "outputId": "129acc8a-764e-411a-89a5-503ac35c39dc"
   },
   "outputs": [
    {
     "data": {
      "text/html": [
       "<div>\n",
       "<style scoped>\n",
       "    .dataframe tbody tr th:only-of-type {\n",
       "        vertical-align: middle;\n",
       "    }\n",
       "\n",
       "    .dataframe tbody tr th {\n",
       "        vertical-align: top;\n",
       "    }\n",
       "\n",
       "    .dataframe thead th {\n",
       "        text-align: right;\n",
       "    }\n",
       "</style>\n",
       "<table border=\"1\" class=\"dataframe\">\n",
       "  <thead>\n",
       "    <tr style=\"text-align: right;\">\n",
       "      <th></th>\n",
       "      <th>CNT_ID</th>\n",
       "      <th>Default</th>\n",
       "      <th>Przychody</th>\n",
       "      <th>Suma_bilansowa</th>\n",
       "      <th>Liczba_prawcownikow</th>\n",
       "      <th>OBT_Type2</th>\n",
       "      <th>OBT_IFNEW</th>\n",
       "      <th>Rok_produkcji</th>\n",
       "      <th>Czy_autoryzowany_dostawca</th>\n",
       "      <th>CNT_WPPLN</th>\n",
       "      <th>...</th>\n",
       "      <th>WojewodztwoLU</th>\n",
       "      <th>GenezaSpolecznosci_ZO</th>\n",
       "      <th>GenezaSpolecznosci_ZN</th>\n",
       "      <th>GenezaSpolecznosci_ZA</th>\n",
       "      <th>GenezaSpolecznosci_ZR</th>\n",
       "      <th>GenezaSpolecznosci_WS</th>\n",
       "      <th>Poglady_PP</th>\n",
       "      <th>Poglady_X</th>\n",
       "      <th>Auto_luksusowe</th>\n",
       "      <th>Branza</th>\n",
       "    </tr>\n",
       "  </thead>\n",
       "  <tbody>\n",
       "    <tr>\n",
       "      <th>0</th>\n",
       "      <td>2</td>\n",
       "      <td>0</td>\n",
       "      <td>0</td>\n",
       "      <td>0</td>\n",
       "      <td>0</td>\n",
       "      <td>Cars</td>\n",
       "      <td>New</td>\n",
       "      <td>0</td>\n",
       "      <td>T</td>\n",
       "      <td>77282.79</td>\n",
       "      <td>...</td>\n",
       "      <td>0.0</td>\n",
       "      <td>0.0</td>\n",
       "      <td>0.0</td>\n",
       "      <td>0.0</td>\n",
       "      <td>1.0</td>\n",
       "      <td>0.0</td>\n",
       "      <td>0.0</td>\n",
       "      <td>1.0</td>\n",
       "      <td>-1.0</td>\n",
       "      <td>Handel</td>\n",
       "    </tr>\n",
       "    <tr>\n",
       "      <th>1</th>\n",
       "      <td>41</td>\n",
       "      <td>1</td>\n",
       "      <td>0</td>\n",
       "      <td>0</td>\n",
       "      <td>1</td>\n",
       "      <td>Truck &amp; Trailer</td>\n",
       "      <td>New</td>\n",
       "      <td>0</td>\n",
       "      <td>N</td>\n",
       "      <td>115600.00</td>\n",
       "      <td>...</td>\n",
       "      <td>0.0</td>\n",
       "      <td>0.0</td>\n",
       "      <td>0.0</td>\n",
       "      <td>0.0</td>\n",
       "      <td>1.0</td>\n",
       "      <td>0.0</td>\n",
       "      <td>0.0</td>\n",
       "      <td>1.0</td>\n",
       "      <td>-1.0</td>\n",
       "      <td>Handel</td>\n",
       "    </tr>\n",
       "    <tr>\n",
       "      <th>2</th>\n",
       "      <td>61</td>\n",
       "      <td>0</td>\n",
       "      <td>0</td>\n",
       "      <td>0</td>\n",
       "      <td>0</td>\n",
       "      <td>Cars</td>\n",
       "      <td>New</td>\n",
       "      <td>0</td>\n",
       "      <td>T</td>\n",
       "      <td>77282.79</td>\n",
       "      <td>...</td>\n",
       "      <td>0.0</td>\n",
       "      <td>0.0</td>\n",
       "      <td>0.0</td>\n",
       "      <td>0.0</td>\n",
       "      <td>1.0</td>\n",
       "      <td>0.0</td>\n",
       "      <td>0.0</td>\n",
       "      <td>1.0</td>\n",
       "      <td>-1.0</td>\n",
       "      <td>Handel</td>\n",
       "    </tr>\n",
       "    <tr>\n",
       "      <th>3</th>\n",
       "      <td>121</td>\n",
       "      <td>0</td>\n",
       "      <td>0</td>\n",
       "      <td>0</td>\n",
       "      <td>1</td>\n",
       "      <td>Truck &amp; Trailer</td>\n",
       "      <td>New</td>\n",
       "      <td>0</td>\n",
       "      <td>N</td>\n",
       "      <td>111552.64</td>\n",
       "      <td>...</td>\n",
       "      <td>0.0</td>\n",
       "      <td>0.0</td>\n",
       "      <td>0.0</td>\n",
       "      <td>0.0</td>\n",
       "      <td>1.0</td>\n",
       "      <td>0.0</td>\n",
       "      <td>0.0</td>\n",
       "      <td>1.0</td>\n",
       "      <td>-1.0</td>\n",
       "      <td>Transport</td>\n",
       "    </tr>\n",
       "    <tr>\n",
       "      <th>4</th>\n",
       "      <td>241</td>\n",
       "      <td>1</td>\n",
       "      <td>3150000</td>\n",
       "      <td>0</td>\n",
       "      <td>15</td>\n",
       "      <td>Truck &amp; Trailer</td>\n",
       "      <td>New</td>\n",
       "      <td>0</td>\n",
       "      <td>N</td>\n",
       "      <td>469589.40</td>\n",
       "      <td>...</td>\n",
       "      <td>0.0</td>\n",
       "      <td>0.0</td>\n",
       "      <td>0.0</td>\n",
       "      <td>0.0</td>\n",
       "      <td>0.0</td>\n",
       "      <td>1.0</td>\n",
       "      <td>0.0</td>\n",
       "      <td>1.0</td>\n",
       "      <td>-1.0</td>\n",
       "      <td>Usługi</td>\n",
       "    </tr>\n",
       "    <tr>\n",
       "      <th>...</th>\n",
       "      <td>...</td>\n",
       "      <td>...</td>\n",
       "      <td>...</td>\n",
       "      <td>...</td>\n",
       "      <td>...</td>\n",
       "      <td>...</td>\n",
       "      <td>...</td>\n",
       "      <td>...</td>\n",
       "      <td>...</td>\n",
       "      <td>...</td>\n",
       "      <td>...</td>\n",
       "      <td>...</td>\n",
       "      <td>...</td>\n",
       "      <td>...</td>\n",
       "      <td>...</td>\n",
       "      <td>...</td>\n",
       "      <td>...</td>\n",
       "      <td>...</td>\n",
       "      <td>...</td>\n",
       "      <td>...</td>\n",
       "      <td>...</td>\n",
       "    </tr>\n",
       "    <tr>\n",
       "      <th>3995</th>\n",
       "      <td>92379</td>\n",
       "      <td>1</td>\n",
       "      <td>0</td>\n",
       "      <td>0</td>\n",
       "      <td>33</td>\n",
       "      <td>Truck &amp; Trailer</td>\n",
       "      <td>New</td>\n",
       "      <td>0</td>\n",
       "      <td>T</td>\n",
       "      <td>90338.82</td>\n",
       "      <td>...</td>\n",
       "      <td>0.0</td>\n",
       "      <td>0.0</td>\n",
       "      <td>0.0</td>\n",
       "      <td>1.0</td>\n",
       "      <td>0.0</td>\n",
       "      <td>0.0</td>\n",
       "      <td>1.0</td>\n",
       "      <td>0.0</td>\n",
       "      <td>-1.0</td>\n",
       "      <td>Transport</td>\n",
       "    </tr>\n",
       "    <tr>\n",
       "      <th>3996</th>\n",
       "      <td>92809</td>\n",
       "      <td>0</td>\n",
       "      <td>989776</td>\n",
       "      <td>0</td>\n",
       "      <td>11</td>\n",
       "      <td>Cars</td>\n",
       "      <td>New</td>\n",
       "      <td>0</td>\n",
       "      <td>T</td>\n",
       "      <td>36016.26</td>\n",
       "      <td>...</td>\n",
       "      <td>-1.0</td>\n",
       "      <td>-1.0</td>\n",
       "      <td>-1.0</td>\n",
       "      <td>-1.0</td>\n",
       "      <td>-1.0</td>\n",
       "      <td>-1.0</td>\n",
       "      <td>-1.0</td>\n",
       "      <td>-1.0</td>\n",
       "      <td>-1.0</td>\n",
       "      <td>Medycyna</td>\n",
       "    </tr>\n",
       "    <tr>\n",
       "      <th>3997</th>\n",
       "      <td>93770</td>\n",
       "      <td>0</td>\n",
       "      <td>16014354</td>\n",
       "      <td>9112929</td>\n",
       "      <td>49</td>\n",
       "      <td>Truck &amp; Trailer</td>\n",
       "      <td>Used</td>\n",
       "      <td>1</td>\n",
       "      <td>N</td>\n",
       "      <td>274625.00</td>\n",
       "      <td>...</td>\n",
       "      <td>0.0</td>\n",
       "      <td>0.0</td>\n",
       "      <td>0.0</td>\n",
       "      <td>0.0</td>\n",
       "      <td>1.0</td>\n",
       "      <td>0.0</td>\n",
       "      <td>0.0</td>\n",
       "      <td>1.0</td>\n",
       "      <td>-1.0</td>\n",
       "      <td>Transport</td>\n",
       "    </tr>\n",
       "    <tr>\n",
       "      <th>3998</th>\n",
       "      <td>93864</td>\n",
       "      <td>0</td>\n",
       "      <td>0</td>\n",
       "      <td>0</td>\n",
       "      <td>1</td>\n",
       "      <td>Cars</td>\n",
       "      <td>New</td>\n",
       "      <td>0</td>\n",
       "      <td>T</td>\n",
       "      <td>54390.24</td>\n",
       "      <td>...</td>\n",
       "      <td>-1.0</td>\n",
       "      <td>-1.0</td>\n",
       "      <td>-1.0</td>\n",
       "      <td>-1.0</td>\n",
       "      <td>-1.0</td>\n",
       "      <td>-1.0</td>\n",
       "      <td>-1.0</td>\n",
       "      <td>-1.0</td>\n",
       "      <td>-1.0</td>\n",
       "      <td>Budownictwo</td>\n",
       "    </tr>\n",
       "    <tr>\n",
       "      <th>3999</th>\n",
       "      <td>93866</td>\n",
       "      <td>0</td>\n",
       "      <td>0</td>\n",
       "      <td>0</td>\n",
       "      <td>1</td>\n",
       "      <td>Cars</td>\n",
       "      <td>New</td>\n",
       "      <td>0</td>\n",
       "      <td>T</td>\n",
       "      <td>357448.78</td>\n",
       "      <td>...</td>\n",
       "      <td>0.0</td>\n",
       "      <td>0.0</td>\n",
       "      <td>1.0</td>\n",
       "      <td>0.0</td>\n",
       "      <td>0.0</td>\n",
       "      <td>0.0</td>\n",
       "      <td>0.0</td>\n",
       "      <td>1.0</td>\n",
       "      <td>1.0</td>\n",
       "      <td>Budownictwo</td>\n",
       "    </tr>\n",
       "  </tbody>\n",
       "</table>\n",
       "<p>14000 rows × 416 columns</p>\n",
       "</div>"
      ],
      "text/plain": [
       "      CNT_ID  Default  Przychody  Suma_bilansowa  Liczba_prawcownikow  \\\n",
       "0          2        0          0               0                    0   \n",
       "1         41        1          0               0                    1   \n",
       "2         61        0          0               0                    0   \n",
       "3        121        0          0               0                    1   \n",
       "4        241        1    3150000               0                   15   \n",
       "...      ...      ...        ...             ...                  ...   \n",
       "3995   92379        1          0               0                   33   \n",
       "3996   92809        0     989776               0                   11   \n",
       "3997   93770        0   16014354         9112929                   49   \n",
       "3998   93864        0          0               0                    1   \n",
       "3999   93866        0          0               0                    1   \n",
       "\n",
       "            OBT_Type2 OBT_IFNEW  Rok_produkcji Czy_autoryzowany_dostawca  \\\n",
       "0                Cars       New              0                         T   \n",
       "1     Truck & Trailer       New              0                         N   \n",
       "2                Cars       New              0                         T   \n",
       "3     Truck & Trailer       New              0                         N   \n",
       "4     Truck & Trailer       New              0                         N   \n",
       "...               ...       ...            ...                       ...   \n",
       "3995  Truck & Trailer       New              0                         T   \n",
       "3996             Cars       New              0                         T   \n",
       "3997  Truck & Trailer      Used              1                         N   \n",
       "3998             Cars       New              0                         T   \n",
       "3999             Cars       New              0                         T   \n",
       "\n",
       "      CNT_WPPLN  ...  WojewodztwoLU  GenezaSpolecznosci_ZO  \\\n",
       "0      77282.79  ...            0.0                    0.0   \n",
       "1     115600.00  ...            0.0                    0.0   \n",
       "2      77282.79  ...            0.0                    0.0   \n",
       "3     111552.64  ...            0.0                    0.0   \n",
       "4     469589.40  ...            0.0                    0.0   \n",
       "...         ...  ...            ...                    ...   \n",
       "3995   90338.82  ...            0.0                    0.0   \n",
       "3996   36016.26  ...           -1.0                   -1.0   \n",
       "3997  274625.00  ...            0.0                    0.0   \n",
       "3998   54390.24  ...           -1.0                   -1.0   \n",
       "3999  357448.78  ...            0.0                    0.0   \n",
       "\n",
       "      GenezaSpolecznosci_ZN  GenezaSpolecznosci_ZA  GenezaSpolecznosci_ZR  \\\n",
       "0                       0.0                    0.0                    1.0   \n",
       "1                       0.0                    0.0                    1.0   \n",
       "2                       0.0                    0.0                    1.0   \n",
       "3                       0.0                    0.0                    1.0   \n",
       "4                       0.0                    0.0                    0.0   \n",
       "...                     ...                    ...                    ...   \n",
       "3995                    0.0                    1.0                    0.0   \n",
       "3996                   -1.0                   -1.0                   -1.0   \n",
       "3997                    0.0                    0.0                    1.0   \n",
       "3998                   -1.0                   -1.0                   -1.0   \n",
       "3999                    1.0                    0.0                    0.0   \n",
       "\n",
       "     GenezaSpolecznosci_WS Poglady_PP Poglady_X Auto_luksusowe       Branza  \n",
       "0                      0.0        0.0       1.0           -1.0       Handel  \n",
       "1                      0.0        0.0       1.0           -1.0       Handel  \n",
       "2                      0.0        0.0       1.0           -1.0       Handel  \n",
       "3                      0.0        0.0       1.0           -1.0    Transport  \n",
       "4                      1.0        0.0       1.0           -1.0       Usługi  \n",
       "...                    ...        ...       ...            ...          ...  \n",
       "3995                   0.0        1.0       0.0           -1.0    Transport  \n",
       "3996                  -1.0       -1.0      -1.0           -1.0     Medycyna  \n",
       "3997                   0.0        0.0       1.0           -1.0    Transport  \n",
       "3998                  -1.0       -1.0      -1.0           -1.0  Budownictwo  \n",
       "3999                   0.0        0.0       1.0            1.0  Budownictwo  \n",
       "\n",
       "[14000 rows x 416 columns]"
      ]
     },
     "execution_count": 20,
     "metadata": {},
     "output_type": "execute_result"
    }
   ],
   "source": [
    "df"
   ]
  },
  {
   "cell_type": "code",
   "execution_count": 21,
   "metadata": {
    "executionInfo": {
     "elapsed": 9780,
     "status": "ok",
     "timestamp": 1672774256014,
     "user": {
      "displayName": "Eve Nightwalker",
      "userId": "02652474989830249227"
     },
     "user_tz": -60
    },
    "id": "33pvZApArFhS"
   },
   "outputs": [
    {
     "name": "stderr",
     "output_type": "stream",
     "text": [
      "C:\\Users\\barte\\AppData\\Local\\Temp\\ipykernel_3872\\1288722178.py:1: FutureWarning: The default value of numeric_only in DataFrame.corr is deprecated. In a future version, it will default to False. Select only valid columns or specify the value of numeric_only to silence this warning.\n",
      "  correlation_3 = df.corr(method = 'spearman')\n"
     ]
    }
   ],
   "source": [
    "correlation_3 = df.corr(method = 'spearman')"
   ]
  },
  {
   "cell_type": "markdown",
   "metadata": {
    "id": "vwc6CwosuPpD"
   },
   "source": [
    "First 50 negative correlations"
   ]
  },
  {
   "cell_type": "code",
   "execution_count": 22,
   "metadata": {
    "colab": {
     "base_uri": "https://localhost:8080/"
    },
    "executionInfo": {
     "elapsed": 32,
     "status": "ok",
     "timestamp": 1672774256014,
     "user": {
      "displayName": "Eve Nightwalker",
      "userId": "02652474989830249227"
     },
     "user_tz": -60
    },
    "id": "NmxAqf4zrUaC",
    "outputId": "4842cd9d-5100-46ac-ef6f-3adbd41eeaf9"
   },
   "outputs": [
    {
     "name": "stdout",
     "output_type": "stream",
     "text": [
      "Przychody                              -0.231880\n",
      "Suma_bilansowa                         -0.183375\n",
      "Liczba_prawcownikow                    -0.179979\n",
      "CzasDzialalnosciMce                    -0.172945\n",
      "CNT_ID                                 -0.163832\n",
      "OWPRC                                  -0.107784\n",
      "WojewodztwoSW                          -0.060187\n",
      "K_KodP_45                              -0.058900\n",
      "D_KodP_20                              -0.057924\n",
      "C08_Liczba_obcokrajowcow_w_zarzadzie   -0.057762\n",
      "GenezaSpolecznosci_ZR                  -0.056984\n",
      "K_KodP_26                              -0.055346\n",
      "WojewodztwoOP                          -0.053379\n",
      "WojewodztwoLU                          -0.052651\n",
      "C10_Liczba_wlascicieli                 -0.051397\n",
      "D_KodP_03                              -0.050488\n",
      "K_KodP_04                              -0.050097\n",
      "K_KodP_46                              -0.049841\n",
      "K_KodP_25                              -0.049324\n",
      "K_KodP_02                              -0.049240\n",
      "K_KodP_21                              -0.048801\n",
      "P_KodP_80                              -0.048512\n",
      "C24_Mcy_od_ost_daty_sprawzdania        -0.048292\n",
      "D_KodP_45                              -0.047578\n",
      "K_KodP_93                              -0.046597\n",
      "Poglady_PP                             -0.046162\n",
      "D_KodP_92                              -0.045367\n",
      "D_KodP_25                              -0.045235\n",
      "K_KodP_51                              -0.045173\n",
      "D_KodP_04                              -0.044904\n",
      "K_KodP_27                              -0.044552\n",
      "P_KodP_37                              -0.044364\n",
      "Czy_leasing_zwrotny                    -0.042891\n",
      "D_KodP_46                              -0.041629\n",
      "P_KodP_20                              -0.041492\n",
      "D_KodP_81                              -0.041464\n",
      "K_KodP_75                              -0.040903\n",
      "K_KodP_35                              -0.040767\n",
      "K_KodP_63                              -0.040493\n",
      "S45_dostawca_to_klient                 -0.040402\n",
      "P_KodP_91                              -0.040269\n",
      "K_KodP_23                              -0.040216\n",
      "D_KodP_35                              -0.040064\n",
      "C12_Liczba_wlascicieli_w_zarzadzie     -0.039851\n",
      "D_KodP_42                              -0.039603\n",
      "D_KodP_95                              -0.039473\n",
      "D_KodP_37                              -0.039387\n",
      "D_KodP_21                              -0.039365\n",
      "D_KodP_73                              -0.038902\n",
      "K_KodP_92                              -0.038728\n",
      "Name: Default, dtype: float64\n"
     ]
    }
   ],
   "source": [
    "sorted_correlations = correlation_3['Default'].sort_values()\n",
    "first_50 = sorted_correlations[:50]\n",
    "print(first_50)"
   ]
  },
  {
   "cell_type": "markdown",
   "metadata": {
    "id": "9MPboYL9uVWL"
   },
   "source": [
    "First 50 positive correlations"
   ]
  },
  {
   "cell_type": "code",
   "execution_count": 23,
   "metadata": {
    "colab": {
     "base_uri": "https://localhost:8080/"
    },
    "executionInfo": {
     "elapsed": 28,
     "status": "ok",
     "timestamp": 1672774256015,
     "user": {
      "displayName": "Eve Nightwalker",
      "userId": "02652474989830249227"
     },
     "user_tz": -60
    },
    "id": "SOI0aW1huM9r",
    "outputId": "3fa2468c-cd4f-4dfe-926d-f5c6a05f4917"
   },
   "outputs": [
    {
     "name": "stdout",
     "output_type": "stream",
     "text": [
      "K_KodP_81                                     0.001928\n",
      "C18_Mcy_od_Zmiana_adresu                      0.004494\n",
      "C25_AdresKlientaWystepujePrzyInnychFirmach    0.006112\n",
      "C22_Mcy_od_Zmiana_przekszt                    0.007216\n",
      "D_KodP_02                                     0.007316\n",
      "S10_Ryzykowne_PKD                             0.007453\n",
      "P_KodP_05                                     0.008388\n",
      "S37_Czarna_lista_klient                       0.012549\n",
      "S12_Uzywany_nietypowy_PL                      0.012950\n",
      "C16_Mcy_od_poczatku_nieaktywnosci             0.013031\n",
      "S26_Odrzucone_wnioski_powiazanych_12Mcy       0.014405\n",
      "S49_gieldy_dlugow_dostawca                    0.015278\n",
      "S10a_Liczba_PKD                               0.016008\n",
      "K_KodP_00                                     0.016707\n",
      "Kapital                                       0.019327\n",
      "S05_Start_up                                  0.019783\n",
      "S53_zadluzenie_w_dziale_4_krs                 0.029922\n",
      "S20_Wysoka_prowizja_posrednika_HV_New         0.032102\n",
      "S48_gieldy_dlugow_klient                      0.039875\n",
      "S25_Odrzucone_wnoski_24Mcy                    0.040395\n",
      "S39_Czarna_lista_dostawca                     0.040719\n",
      "S01_Transakcja_ponadregionalna                0.045450\n",
      "S19_Wysoka_prowizja_posrednika_LV_Used        0.047678\n",
      "S15_Akceptacja_wysokiej_marzy_HV_New          0.049643\n",
      "C50_Stare_sprawozdanie_finansowe              0.055692\n",
      "S18_Wysoka_prowizja_posrednika_LV_New         0.056190\n",
      "WKPRC                                         0.057633\n",
      "S09_Minimalny_kapital_5K                      0.058884\n",
      "S17_Akceptacja_wysokiej_marzy_EM              0.060235\n",
      "S23_Prowizja_posrednika_z_marzy               0.064616\n",
      "S14_Akceptacja_wysokiej_marzy_LV_Used         0.065499\n",
      "CNT_WPPLN                                     0.069214\n",
      "S40_Czarna_lista_posrednik                    0.069214\n",
      "S22_Wysoka_prowizja_posrednika_EM             0.071999\n",
      "S21_Wysoka_prowizja_posrednika_HV_Used        0.073216\n",
      "S47_transakcje_windykowane_posrednika         0.073407\n",
      "Wynik_sprawdzen_KRD                           0.077713\n",
      "CNT_WKPLN                                     0.082041\n",
      "S13_Akceptacja_wysokiej_marzy_LV_New          0.086687\n",
      "S02_nowy_klient_nowy_dostawca                 0.088492\n",
      "S16_Akceptacja_wysokiej_marzy_HV_Used         0.093025\n",
      "S24_Odrzucone_wnoski_12Mcy                    0.130064\n",
      "Rok_produkcji                                 0.132774\n",
      "PROWIZJA                                      0.172826\n",
      "Admin                                         0.175232\n",
      "S46_transakcje_windykowane_dostawcy           0.175672\n",
      "MARZA                                         0.216023\n",
      "Okres_umowy                                   0.233063\n",
      "S06_Nie_jest_podatnikiem_VAT                  0.453389\n",
      "Default                                       1.000000\n",
      "Name: Default, dtype: float64\n"
     ]
    }
   ],
   "source": [
    "last_50 = sorted_correlations[-50:]\n",
    "print(last_50)"
   ]
  },
  {
   "cell_type": "markdown",
   "metadata": {
    "id": "VxycdSWEsbuj"
   },
   "source": [
    "Division of data into a data frame with columns through which we make predictions"
   ]
  },
  {
   "cell_type": "code",
   "execution_count": 24,
   "metadata": {
    "executionInfo": {
     "elapsed": 29,
     "status": "ok",
     "timestamp": 1672774256019,
     "user": {
      "displayName": "Eve Nightwalker",
      "userId": "02652474989830249227"
     },
     "user_tz": -60
    },
    "id": "8GpR5785scLa"
   },
   "outputs": [],
   "source": [
    "x_data = pd.DataFrame(first_50)"
   ]
  },
  {
   "cell_type": "code",
   "execution_count": 25,
   "metadata": {
    "executionInfo": {
     "elapsed": 30,
     "status": "ok",
     "timestamp": 1672774256020,
     "user": {
      "displayName": "Eve Nightwalker",
      "userId": "02652474989830249227"
     },
     "user_tz": -60
    },
    "id": "d0d3iY0yxqmz"
   },
   "outputs": [],
   "source": [
    "last_50_df = pd.DataFrame(last_50)"
   ]
  },
  {
   "cell_type": "code",
   "execution_count": 26,
   "metadata": {
    "executionInfo": {
     "elapsed": 29,
     "status": "ok",
     "timestamp": 1672774256020,
     "user": {
      "displayName": "Eve Nightwalker",
      "userId": "02652474989830249227"
     },
     "user_tz": -60
    },
    "id": "4mtglol9vhlS"
   },
   "outputs": [],
   "source": [
    "x_data = pd.concat([x_data, last_50_df])"
   ]
  },
  {
   "cell_type": "code",
   "execution_count": 27,
   "metadata": {
    "colab": {
     "base_uri": "https://localhost:8080/",
     "height": 424
    },
    "executionInfo": {
     "elapsed": 30,
     "status": "ok",
     "timestamp": 1672774256021,
     "user": {
      "displayName": "Eve Nightwalker",
      "userId": "02652474989830249227"
     },
     "user_tz": -60
    },
    "id": "AEj6jsRpwFVq",
    "outputId": "e00d4540-a418-483f-c563-7ca5c01f11fc"
   },
   "outputs": [
    {
     "data": {
      "text/html": [
       "<div>\n",
       "<style scoped>\n",
       "    .dataframe tbody tr th:only-of-type {\n",
       "        vertical-align: middle;\n",
       "    }\n",
       "\n",
       "    .dataframe tbody tr th {\n",
       "        vertical-align: top;\n",
       "    }\n",
       "\n",
       "    .dataframe thead th {\n",
       "        text-align: right;\n",
       "    }\n",
       "</style>\n",
       "<table border=\"1\" class=\"dataframe\">\n",
       "  <thead>\n",
       "    <tr style=\"text-align: right;\">\n",
       "      <th></th>\n",
       "      <th>Default</th>\n",
       "    </tr>\n",
       "  </thead>\n",
       "  <tbody>\n",
       "    <tr>\n",
       "      <th>Przychody</th>\n",
       "      <td>-0.231880</td>\n",
       "    </tr>\n",
       "    <tr>\n",
       "      <th>Suma_bilansowa</th>\n",
       "      <td>-0.183375</td>\n",
       "    </tr>\n",
       "    <tr>\n",
       "      <th>Liczba_prawcownikow</th>\n",
       "      <td>-0.179979</td>\n",
       "    </tr>\n",
       "    <tr>\n",
       "      <th>CzasDzialalnosciMce</th>\n",
       "      <td>-0.172945</td>\n",
       "    </tr>\n",
       "    <tr>\n",
       "      <th>CNT_ID</th>\n",
       "      <td>-0.163832</td>\n",
       "    </tr>\n",
       "    <tr>\n",
       "      <th>...</th>\n",
       "      <td>...</td>\n",
       "    </tr>\n",
       "    <tr>\n",
       "      <th>S46_transakcje_windykowane_dostawcy</th>\n",
       "      <td>0.175672</td>\n",
       "    </tr>\n",
       "    <tr>\n",
       "      <th>MARZA</th>\n",
       "      <td>0.216023</td>\n",
       "    </tr>\n",
       "    <tr>\n",
       "      <th>Okres_umowy</th>\n",
       "      <td>0.233063</td>\n",
       "    </tr>\n",
       "    <tr>\n",
       "      <th>S06_Nie_jest_podatnikiem_VAT</th>\n",
       "      <td>0.453389</td>\n",
       "    </tr>\n",
       "    <tr>\n",
       "      <th>Default</th>\n",
       "      <td>1.000000</td>\n",
       "    </tr>\n",
       "  </tbody>\n",
       "</table>\n",
       "<p>100 rows × 1 columns</p>\n",
       "</div>"
      ],
      "text/plain": [
       "                                      Default\n",
       "Przychody                           -0.231880\n",
       "Suma_bilansowa                      -0.183375\n",
       "Liczba_prawcownikow                 -0.179979\n",
       "CzasDzialalnosciMce                 -0.172945\n",
       "CNT_ID                              -0.163832\n",
       "...                                       ...\n",
       "S46_transakcje_windykowane_dostawcy  0.175672\n",
       "MARZA                                0.216023\n",
       "Okres_umowy                          0.233063\n",
       "S06_Nie_jest_podatnikiem_VAT         0.453389\n",
       "Default                              1.000000\n",
       "\n",
       "[100 rows x 1 columns]"
      ]
     },
     "execution_count": 27,
     "metadata": {},
     "output_type": "execute_result"
    }
   ],
   "source": [
    "x_data"
   ]
  },
  {
   "cell_type": "code",
   "execution_count": 28,
   "metadata": {
    "executionInfo": {
     "elapsed": 29,
     "status": "ok",
     "timestamp": 1672774256021,
     "user": {
      "displayName": "Eve Nightwalker",
      "userId": "02652474989830249227"
     },
     "user_tz": -60
    },
    "id": "EsppJ0lhzgry"
   },
   "outputs": [],
   "source": [
    "x_data = df[x_data.index]"
   ]
  },
  {
   "cell_type": "code",
   "execution_count": 29,
   "metadata": {
    "executionInfo": {
     "elapsed": 29,
     "status": "ok",
     "timestamp": 1672774256021,
     "user": {
      "displayName": "Eve Nightwalker",
      "userId": "02652474989830249227"
     },
     "user_tz": -60
    },
    "id": "4rlb9gN80Uij"
   },
   "outputs": [],
   "source": [
    "x_data = x_data.iloc[:, :-1]"
   ]
  },
  {
   "cell_type": "code",
   "execution_count": 30,
   "metadata": {
    "colab": {
     "base_uri": "https://localhost:8080/",
     "height": 488
    },
    "executionInfo": {
     "elapsed": 30,
     "status": "ok",
     "timestamp": 1672774256022,
     "user": {
      "displayName": "Eve Nightwalker",
      "userId": "02652474989830249227"
     },
     "user_tz": -60
    },
    "id": "jM_JS0_Z0b7z",
    "outputId": "93c8b70e-2296-4ab4-9dbb-c6b57f4e2f82"
   },
   "outputs": [
    {
     "data": {
      "text/html": [
       "<div>\n",
       "<style scoped>\n",
       "    .dataframe tbody tr th:only-of-type {\n",
       "        vertical-align: middle;\n",
       "    }\n",
       "\n",
       "    .dataframe tbody tr th {\n",
       "        vertical-align: top;\n",
       "    }\n",
       "\n",
       "    .dataframe thead th {\n",
       "        text-align: right;\n",
       "    }\n",
       "</style>\n",
       "<table border=\"1\" class=\"dataframe\">\n",
       "  <thead>\n",
       "    <tr style=\"text-align: right;\">\n",
       "      <th></th>\n",
       "      <th>Przychody</th>\n",
       "      <th>Suma_bilansowa</th>\n",
       "      <th>Liczba_prawcownikow</th>\n",
       "      <th>CzasDzialalnosciMce</th>\n",
       "      <th>CNT_ID</th>\n",
       "      <th>OWPRC</th>\n",
       "      <th>WojewodztwoSW</th>\n",
       "      <th>K_KodP_45</th>\n",
       "      <th>D_KodP_20</th>\n",
       "      <th>C08_Liczba_obcokrajowcow_w_zarzadzie</th>\n",
       "      <th>...</th>\n",
       "      <th>S02_nowy_klient_nowy_dostawca</th>\n",
       "      <th>S16_Akceptacja_wysokiej_marzy_HV_Used</th>\n",
       "      <th>S24_Odrzucone_wnoski_12Mcy</th>\n",
       "      <th>Rok_produkcji</th>\n",
       "      <th>PROWIZJA</th>\n",
       "      <th>Admin</th>\n",
       "      <th>S46_transakcje_windykowane_dostawcy</th>\n",
       "      <th>MARZA</th>\n",
       "      <th>Okres_umowy</th>\n",
       "      <th>S06_Nie_jest_podatnikiem_VAT</th>\n",
       "    </tr>\n",
       "  </thead>\n",
       "  <tbody>\n",
       "    <tr>\n",
       "      <th>0</th>\n",
       "      <td>0</td>\n",
       "      <td>0</td>\n",
       "      <td>0</td>\n",
       "      <td>100.0</td>\n",
       "      <td>2</td>\n",
       "      <td>10</td>\n",
       "      <td>0.0</td>\n",
       "      <td>0.0</td>\n",
       "      <td>0.0</td>\n",
       "      <td>7.0</td>\n",
       "      <td>...</td>\n",
       "      <td>-1.0</td>\n",
       "      <td>-1.0</td>\n",
       "      <td>-1.0</td>\n",
       "      <td>0</td>\n",
       "      <td>0.000000</td>\n",
       "      <td>0.499995</td>\n",
       "      <td>-1.0</td>\n",
       "      <td>2.51</td>\n",
       "      <td>36</td>\n",
       "      <td>-1.0</td>\n",
       "    </tr>\n",
       "    <tr>\n",
       "      <th>1</th>\n",
       "      <td>0</td>\n",
       "      <td>0</td>\n",
       "      <td>1</td>\n",
       "      <td>119.0</td>\n",
       "      <td>41</td>\n",
       "      <td>7</td>\n",
       "      <td>0.0</td>\n",
       "      <td>0.0</td>\n",
       "      <td>0.0</td>\n",
       "      <td>0.0</td>\n",
       "      <td>...</td>\n",
       "      <td>1.0</td>\n",
       "      <td>-1.0</td>\n",
       "      <td>-1.0</td>\n",
       "      <td>0</td>\n",
       "      <td>1.860000</td>\n",
       "      <td>3.000000</td>\n",
       "      <td>-1.0</td>\n",
       "      <td>3.20</td>\n",
       "      <td>48</td>\n",
       "      <td>1.0</td>\n",
       "    </tr>\n",
       "    <tr>\n",
       "      <th>2</th>\n",
       "      <td>0</td>\n",
       "      <td>0</td>\n",
       "      <td>0</td>\n",
       "      <td>100.0</td>\n",
       "      <td>61</td>\n",
       "      <td>10</td>\n",
       "      <td>0.0</td>\n",
       "      <td>0.0</td>\n",
       "      <td>0.0</td>\n",
       "      <td>7.0</td>\n",
       "      <td>...</td>\n",
       "      <td>-1.0</td>\n",
       "      <td>-1.0</td>\n",
       "      <td>-1.0</td>\n",
       "      <td>0</td>\n",
       "      <td>0.000000</td>\n",
       "      <td>0.499995</td>\n",
       "      <td>-1.0</td>\n",
       "      <td>2.51</td>\n",
       "      <td>36</td>\n",
       "      <td>-1.0</td>\n",
       "    </tr>\n",
       "    <tr>\n",
       "      <th>3</th>\n",
       "      <td>0</td>\n",
       "      <td>0</td>\n",
       "      <td>1</td>\n",
       "      <td>91.0</td>\n",
       "      <td>121</td>\n",
       "      <td>9</td>\n",
       "      <td>0.0</td>\n",
       "      <td>0.0</td>\n",
       "      <td>0.0</td>\n",
       "      <td>-1.0</td>\n",
       "      <td>...</td>\n",
       "      <td>1.0</td>\n",
       "      <td>-1.0</td>\n",
       "      <td>-1.0</td>\n",
       "      <td>0</td>\n",
       "      <td>0.000000</td>\n",
       "      <td>0.499997</td>\n",
       "      <td>-1.0</td>\n",
       "      <td>2.60</td>\n",
       "      <td>60</td>\n",
       "      <td>1.0</td>\n",
       "    </tr>\n",
       "    <tr>\n",
       "      <th>4</th>\n",
       "      <td>3150000</td>\n",
       "      <td>0</td>\n",
       "      <td>15</td>\n",
       "      <td>50.0</td>\n",
       "      <td>241</td>\n",
       "      <td>8</td>\n",
       "      <td>0.0</td>\n",
       "      <td>0.0</td>\n",
       "      <td>0.0</td>\n",
       "      <td>0.0</td>\n",
       "      <td>...</td>\n",
       "      <td>1.0</td>\n",
       "      <td>-1.0</td>\n",
       "      <td>-1.0</td>\n",
       "      <td>0</td>\n",
       "      <td>1.854603</td>\n",
       "      <td>3.023810</td>\n",
       "      <td>-1.0</td>\n",
       "      <td>4.00</td>\n",
       "      <td>48</td>\n",
       "      <td>1.0</td>\n",
       "    </tr>\n",
       "    <tr>\n",
       "      <th>...</th>\n",
       "      <td>...</td>\n",
       "      <td>...</td>\n",
       "      <td>...</td>\n",
       "      <td>...</td>\n",
       "      <td>...</td>\n",
       "      <td>...</td>\n",
       "      <td>...</td>\n",
       "      <td>...</td>\n",
       "      <td>...</td>\n",
       "      <td>...</td>\n",
       "      <td>...</td>\n",
       "      <td>...</td>\n",
       "      <td>...</td>\n",
       "      <td>...</td>\n",
       "      <td>...</td>\n",
       "      <td>...</td>\n",
       "      <td>...</td>\n",
       "      <td>...</td>\n",
       "      <td>...</td>\n",
       "      <td>...</td>\n",
       "      <td>...</td>\n",
       "    </tr>\n",
       "    <tr>\n",
       "      <th>3995</th>\n",
       "      <td>0</td>\n",
       "      <td>0</td>\n",
       "      <td>33</td>\n",
       "      <td>2.0</td>\n",
       "      <td>92379</td>\n",
       "      <td>11</td>\n",
       "      <td>0.0</td>\n",
       "      <td>0.0</td>\n",
       "      <td>0.0</td>\n",
       "      <td>1.0</td>\n",
       "      <td>...</td>\n",
       "      <td>-1.0</td>\n",
       "      <td>-1.0</td>\n",
       "      <td>-1.0</td>\n",
       "      <td>0</td>\n",
       "      <td>0.118720</td>\n",
       "      <td>0.237439</td>\n",
       "      <td>1.0</td>\n",
       "      <td>3.10</td>\n",
       "      <td>59</td>\n",
       "      <td>-1.0</td>\n",
       "    </tr>\n",
       "    <tr>\n",
       "      <th>3996</th>\n",
       "      <td>989776</td>\n",
       "      <td>0</td>\n",
       "      <td>11</td>\n",
       "      <td>-1.0</td>\n",
       "      <td>92809</td>\n",
       "      <td>9</td>\n",
       "      <td>-1.0</td>\n",
       "      <td>0.0</td>\n",
       "      <td>0.0</td>\n",
       "      <td>0.0</td>\n",
       "      <td>...</td>\n",
       "      <td>-1.0</td>\n",
       "      <td>-1.0</td>\n",
       "      <td>-1.0</td>\n",
       "      <td>0</td>\n",
       "      <td>0.999993</td>\n",
       "      <td>0.999993</td>\n",
       "      <td>1.0</td>\n",
       "      <td>3.00</td>\n",
       "      <td>59</td>\n",
       "      <td>-1.0</td>\n",
       "    </tr>\n",
       "    <tr>\n",
       "      <th>3997</th>\n",
       "      <td>16014354</td>\n",
       "      <td>9112929</td>\n",
       "      <td>49</td>\n",
       "      <td>26.0</td>\n",
       "      <td>93770</td>\n",
       "      <td>20</td>\n",
       "      <td>0.0</td>\n",
       "      <td>0.0</td>\n",
       "      <td>0.0</td>\n",
       "      <td>1.0</td>\n",
       "      <td>...</td>\n",
       "      <td>-1.0</td>\n",
       "      <td>-1.0</td>\n",
       "      <td>-1.0</td>\n",
       "      <td>1</td>\n",
       "      <td>0.118343</td>\n",
       "      <td>0.000000</td>\n",
       "      <td>-1.0</td>\n",
       "      <td>2.80</td>\n",
       "      <td>72</td>\n",
       "      <td>-1.0</td>\n",
       "    </tr>\n",
       "    <tr>\n",
       "      <th>3998</th>\n",
       "      <td>0</td>\n",
       "      <td>0</td>\n",
       "      <td>1</td>\n",
       "      <td>-1.0</td>\n",
       "      <td>93864</td>\n",
       "      <td>14</td>\n",
       "      <td>-1.0</td>\n",
       "      <td>0.0</td>\n",
       "      <td>0.0</td>\n",
       "      <td>0.0</td>\n",
       "      <td>...</td>\n",
       "      <td>-1.0</td>\n",
       "      <td>-1.0</td>\n",
       "      <td>-1.0</td>\n",
       "      <td>0</td>\n",
       "      <td>0.000000</td>\n",
       "      <td>0.999996</td>\n",
       "      <td>-1.0</td>\n",
       "      <td>4.00</td>\n",
       "      <td>59</td>\n",
       "      <td>-1.0</td>\n",
       "    </tr>\n",
       "    <tr>\n",
       "      <th>3999</th>\n",
       "      <td>0</td>\n",
       "      <td>0</td>\n",
       "      <td>1</td>\n",
       "      <td>3.0</td>\n",
       "      <td>93866</td>\n",
       "      <td>5</td>\n",
       "      <td>0.0</td>\n",
       "      <td>0.0</td>\n",
       "      <td>0.0</td>\n",
       "      <td>0.0</td>\n",
       "      <td>...</td>\n",
       "      <td>-1.0</td>\n",
       "      <td>-1.0</td>\n",
       "      <td>-1.0</td>\n",
       "      <td>0</td>\n",
       "      <td>0.000000</td>\n",
       "      <td>0.499999</td>\n",
       "      <td>-1.0</td>\n",
       "      <td>3.50</td>\n",
       "      <td>59</td>\n",
       "      <td>-1.0</td>\n",
       "    </tr>\n",
       "  </tbody>\n",
       "</table>\n",
       "<p>14000 rows × 99 columns</p>\n",
       "</div>"
      ],
      "text/plain": [
       "      Przychody  Suma_bilansowa  Liczba_prawcownikow  CzasDzialalnosciMce  \\\n",
       "0             0               0                    0                100.0   \n",
       "1             0               0                    1                119.0   \n",
       "2             0               0                    0                100.0   \n",
       "3             0               0                    1                 91.0   \n",
       "4       3150000               0                   15                 50.0   \n",
       "...         ...             ...                  ...                  ...   \n",
       "3995          0               0                   33                  2.0   \n",
       "3996     989776               0                   11                 -1.0   \n",
       "3997   16014354         9112929                   49                 26.0   \n",
       "3998          0               0                    1                 -1.0   \n",
       "3999          0               0                    1                  3.0   \n",
       "\n",
       "      CNT_ID  OWPRC  WojewodztwoSW  K_KodP_45  D_KodP_20  \\\n",
       "0          2     10            0.0        0.0        0.0   \n",
       "1         41      7            0.0        0.0        0.0   \n",
       "2         61     10            0.0        0.0        0.0   \n",
       "3        121      9            0.0        0.0        0.0   \n",
       "4        241      8            0.0        0.0        0.0   \n",
       "...      ...    ...            ...        ...        ...   \n",
       "3995   92379     11            0.0        0.0        0.0   \n",
       "3996   92809      9           -1.0        0.0        0.0   \n",
       "3997   93770     20            0.0        0.0        0.0   \n",
       "3998   93864     14           -1.0        0.0        0.0   \n",
       "3999   93866      5            0.0        0.0        0.0   \n",
       "\n",
       "      C08_Liczba_obcokrajowcow_w_zarzadzie  ...  \\\n",
       "0                                      7.0  ...   \n",
       "1                                      0.0  ...   \n",
       "2                                      7.0  ...   \n",
       "3                                     -1.0  ...   \n",
       "4                                      0.0  ...   \n",
       "...                                    ...  ...   \n",
       "3995                                   1.0  ...   \n",
       "3996                                   0.0  ...   \n",
       "3997                                   1.0  ...   \n",
       "3998                                   0.0  ...   \n",
       "3999                                   0.0  ...   \n",
       "\n",
       "      S02_nowy_klient_nowy_dostawca  S16_Akceptacja_wysokiej_marzy_HV_Used  \\\n",
       "0                              -1.0                                   -1.0   \n",
       "1                               1.0                                   -1.0   \n",
       "2                              -1.0                                   -1.0   \n",
       "3                               1.0                                   -1.0   \n",
       "4                               1.0                                   -1.0   \n",
       "...                             ...                                    ...   \n",
       "3995                           -1.0                                   -1.0   \n",
       "3996                           -1.0                                   -1.0   \n",
       "3997                           -1.0                                   -1.0   \n",
       "3998                           -1.0                                   -1.0   \n",
       "3999                           -1.0                                   -1.0   \n",
       "\n",
       "      S24_Odrzucone_wnoski_12Mcy  Rok_produkcji  PROWIZJA     Admin  \\\n",
       "0                           -1.0              0  0.000000  0.499995   \n",
       "1                           -1.0              0  1.860000  3.000000   \n",
       "2                           -1.0              0  0.000000  0.499995   \n",
       "3                           -1.0              0  0.000000  0.499997   \n",
       "4                           -1.0              0  1.854603  3.023810   \n",
       "...                          ...            ...       ...       ...   \n",
       "3995                        -1.0              0  0.118720  0.237439   \n",
       "3996                        -1.0              0  0.999993  0.999993   \n",
       "3997                        -1.0              1  0.118343  0.000000   \n",
       "3998                        -1.0              0  0.000000  0.999996   \n",
       "3999                        -1.0              0  0.000000  0.499999   \n",
       "\n",
       "      S46_transakcje_windykowane_dostawcy  MARZA  Okres_umowy  \\\n",
       "0                                    -1.0   2.51           36   \n",
       "1                                    -1.0   3.20           48   \n",
       "2                                    -1.0   2.51           36   \n",
       "3                                    -1.0   2.60           60   \n",
       "4                                    -1.0   4.00           48   \n",
       "...                                   ...    ...          ...   \n",
       "3995                                  1.0   3.10           59   \n",
       "3996                                  1.0   3.00           59   \n",
       "3997                                 -1.0   2.80           72   \n",
       "3998                                 -1.0   4.00           59   \n",
       "3999                                 -1.0   3.50           59   \n",
       "\n",
       "      S06_Nie_jest_podatnikiem_VAT  \n",
       "0                             -1.0  \n",
       "1                              1.0  \n",
       "2                             -1.0  \n",
       "3                              1.0  \n",
       "4                              1.0  \n",
       "...                            ...  \n",
       "3995                          -1.0  \n",
       "3996                          -1.0  \n",
       "3997                          -1.0  \n",
       "3998                          -1.0  \n",
       "3999                          -1.0  \n",
       "\n",
       "[14000 rows x 99 columns]"
      ]
     },
     "execution_count": 30,
     "metadata": {},
     "output_type": "execute_result"
    }
   ],
   "source": [
    "x_data"
   ]
  },
  {
   "cell_type": "code",
   "execution_count": 31,
   "metadata": {
    "executionInfo": {
     "elapsed": 29,
     "status": "ok",
     "timestamp": 1672774256022,
     "user": {
      "displayName": "Eve Nightwalker",
      "userId": "02652474989830249227"
     },
     "user_tz": -60
    },
    "id": "XI1bEz_F1VUj"
   },
   "outputs": [],
   "source": [
    "y_data = df.Default"
   ]
  },
  {
   "cell_type": "code",
   "execution_count": 32,
   "metadata": {
    "colab": {
     "base_uri": "https://localhost:8080/"
    },
    "executionInfo": {
     "elapsed": 29,
     "status": "ok",
     "timestamp": 1672774256023,
     "user": {
      "displayName": "Eve Nightwalker",
      "userId": "02652474989830249227"
     },
     "user_tz": -60
    },
    "id": "yHsY457q2aW0",
    "outputId": "3b808b7e-6942-43a4-ffca-9285fed810e6"
   },
   "outputs": [
    {
     "data": {
      "text/plain": [
       "0       0\n",
       "1       1\n",
       "2       0\n",
       "3       0\n",
       "4       1\n",
       "       ..\n",
       "3995    1\n",
       "3996    0\n",
       "3997    0\n",
       "3998    0\n",
       "3999    0\n",
       "Name: Default, Length: 14000, dtype: int64"
      ]
     },
     "execution_count": 32,
     "metadata": {},
     "output_type": "execute_result"
    }
   ],
   "source": [
    "y_data"
   ]
  },
  {
   "cell_type": "markdown",
   "metadata": {
    "id": "brHlTL4C9EIj"
   },
   "source": [
    "Division of data into training and test data (the size of test data is 25%)"
   ]
  },
  {
   "cell_type": "code",
   "execution_count": 33,
   "metadata": {
    "executionInfo": {
     "elapsed": 28,
     "status": "ok",
     "timestamp": 1672774256024,
     "user": {
      "displayName": "Eve Nightwalker",
      "userId": "02652474989830249227"
     },
     "user_tz": -60
    },
    "id": "3mS1UD-T9Dkj"
   },
   "outputs": [],
   "source": [
    "X_train, X_test, y_train, y_test = train_test_split(x_data, y_data, test_size = 0.25, random_state = 71)"
   ]
  },
  {
   "cell_type": "markdown",
   "metadata": {
    "id": "531HfHvA5Cke"
   },
   "source": [
    "# Random Forest Classifier"
   ]
  },
  {
   "cell_type": "code",
   "execution_count": 34,
   "metadata": {
    "executionInfo": {
     "elapsed": 3924,
     "status": "ok",
     "timestamp": 1672774260272,
     "user": {
      "displayName": "Eve Nightwalker",
      "userId": "02652474989830249227"
     },
     "user_tz": -60
    },
    "id": "9SMj84Dg6Wsu"
   },
   "outputs": [],
   "source": [
    "rfc = RandomForestClassifier(n_estimators=200)\n",
    "rfc.fit(X_train, y_train)\n",
    "pred_rfc = rfc.predict(X_test)"
   ]
  },
  {
   "cell_type": "code",
   "execution_count": 35,
   "metadata": {
    "executionInfo": {
     "elapsed": 12,
     "status": "ok",
     "timestamp": 1672774260272,
     "user": {
      "displayName": "Eve Nightwalker",
      "userId": "02652474989830249227"
     },
     "user_tz": -60
    },
    "id": "L0u2HL9V9kRk"
   },
   "outputs": [
    {
     "data": {
      "image/png": "[encoded data removed]",
      "text/plain": [
       "<Figure size 640x480 with 1 Axes>"
      ]
     },
     "metadata": {},
     "output_type": "display_data"
    }
   ],
   "source": [
    "cm = confusion_matrix(y_test, pred_rfc)\n",
    "fig = plt.figure()\n",
    "ax = fig.add_subplot(111)\n",
    "cax = ax.matshow(cm)\n",
    "sns.heatmap(cm, annot=True, fmt='g', vmin=0, cmap='Blues', cbar=False)\n",
    "labels = ['Niespłaci', 'Spłaci']\n",
    "ax.set_xticklabels(labels)\n",
    "ax.set_yticklabels(labels)\n",
    "plt.xlabel('Predicted')\n",
    "plt.ylabel('True')\n",
    "plt.show()"
   ]
  },
  {
   "cell_type": "code",
   "execution_count": 36,
   "metadata": {},
   "outputs": [
    {
     "name": "stdout",
     "output_type": "stream",
     "text": [
      "              precision    recall  f1-score   support\n",
      "\n",
      "           0       0.92      0.97      0.95      2630\n",
      "           1       0.90      0.75      0.82       870\n",
      "\n",
      "    accuracy                           0.92      3500\n",
      "   macro avg       0.91      0.86      0.88      3500\n",
      "weighted avg       0.92      0.92      0.91      3500\n",
      "\n"
     ]
    }
   ],
   "source": [
    "print(classification_report(y_test, pred_rfc))"
   ]
  },
  {
   "cell_type": "markdown",
   "metadata": {},
   "source": [
    "# Logistic regression"
   ]
  },
  {
   "cell_type": "code",
   "execution_count": 37,
   "metadata": {
    "executionInfo": {
     "elapsed": 12,
     "status": "ok",
     "timestamp": 1672774260273,
     "user": {
      "displayName": "Eve Nightwalker",
      "userId": "02652474989830249227"
     },
     "user_tz": -60
    },
    "id": "97ELs9P4FtKr"
   },
   "outputs": [],
   "source": [
    "reg_log = LogisticRegression()\n",
    "reg_log.fit(X_train, y_train)\n",
    "\n",
    "pred_skl = reg_log.predict(X_test)"
   ]
  },
  {
   "cell_type": "code",
   "execution_count": 38,
   "metadata": {
    "colab": {
     "base_uri": "https://localhost:8080/"
    },
    "executionInfo": {
     "elapsed": 11,
     "status": "ok",
     "timestamp": 1672774260273,
     "user": {
      "displayName": "Eve Nightwalker",
      "userId": "02652474989830249227"
     },
     "user_tz": -60
    },
    "id": "S6Nvi89IDz39",
    "outputId": "bede362e-74bd-433a-ea20-d729ec62cd5b"
   },
   "outputs": [
    {
     "data": {
      "image/png": "[encoded data removed]",
      "text/plain": [
       "<Figure size 640x480 with 1 Axes>"
      ]
     },
     "metadata": {},
     "output_type": "display_data"
    }
   ],
   "source": [
    "cm = confusion_matrix(y_test, pred_skl)\n",
    "fig = plt.figure()\n",
    "ax = fig.add_subplot(111)\n",
    "cax = ax.matshow(cm)\n",
    "sns.heatmap(cm, annot=True, fmt='g', vmin=0, cmap='Blues', cbar=False)\n",
    "labels = ['Niespłaci', 'Spłaci']\n",
    "ax.set_xticklabels(labels)\n",
    "ax.set_yticklabels(labels)\n",
    "plt.xlabel('Predicted')\n",
    "plt.ylabel('True')\n",
    "plt.show()"
   ]
  },
  {
   "cell_type": "code",
   "execution_count": 39,
   "metadata": {
    "colab": {
     "base_uri": "https://localhost:8080/"
    },
    "executionInfo": {
     "elapsed": 8,
     "status": "ok",
     "timestamp": 1672774260274,
     "user": {
      "displayName": "Eve Nightwalker",
      "userId": "02652474989830249227"
     },
     "user_tz": -60
    },
    "id": "-Ury6LpL-GC8",
    "outputId": "55f44291-805f-4aef-db92-c75ef4f0e9ae"
   },
   "outputs": [
    {
     "name": "stdout",
     "output_type": "stream",
     "text": [
      "              precision    recall  f1-score   support\n",
      "\n",
      "           0       0.77      0.99      0.86      2630\n",
      "           1       0.70      0.09      0.16       870\n",
      "\n",
      "    accuracy                           0.76      3500\n",
      "   macro avg       0.73      0.54      0.51      3500\n",
      "weighted avg       0.75      0.76      0.69      3500\n",
      "\n"
     ]
    }
   ],
   "source": [
    "print(classification_report(y_test, pred_skl))"
   ]
  },
  {
   "cell_type": "markdown",
   "metadata": {
    "id": "PiwCR41R59bG"
   },
   "source": [
    "Recall for repayment is 0.09, which means poor model quality."
   ]
  },
  {
   "cell_type": "markdown",
   "metadata": {
    "id": "Qma3iDDi6KmG"
   },
   "source": [
    "# Cross-validation"
   ]
  },
  {
   "cell_type": "markdown",
   "metadata": {
    "executionInfo": {
     "elapsed": 6,
     "status": "ok",
     "timestamp": 1672774260274,
     "user": {
      "displayName": "Eve Nightwalker",
      "userId": "02652474989830249227"
     },
     "user_tz": -60
    },
    "id": "adcCCgV5DaiW"
   },
   "source": [
    "Random Forest Classifier"
   ]
  },
  {
   "cell_type": "code",
   "execution_count": 40,
   "metadata": {},
   "outputs": [],
   "source": [
    "predictions_rfc = cross_val_predict(rfc, x_data, y_data, cv=5)"
   ]
  },
  {
   "cell_type": "code",
   "execution_count": 41,
   "metadata": {},
   "outputs": [
    {
     "name": "stdout",
     "output_type": "stream",
     "text": [
      "              precision    recall  f1-score   support\n",
      "\n",
      "           0       0.91      0.96      0.93     10500\n",
      "           1       0.85      0.73      0.78      3500\n",
      "\n",
      "    accuracy                           0.90     14000\n",
      "   macro avg       0.88      0.84      0.86     14000\n",
      "weighted avg       0.90      0.90      0.90     14000\n",
      "\n"
     ]
    }
   ],
   "source": [
    "print(classification_report(y_data, predictions_rfc))"
   ]
  },
  {
   "cell_type": "markdown",
   "metadata": {},
   "source": [
    "Logistic regression"
   ]
  },
  {
   "cell_type": "code",
   "execution_count": 42,
   "metadata": {},
   "outputs": [],
   "source": [
    "predictions_skl = cross_val_predict(reg_log, x_data, y_data, cv=5)"
   ]
  },
  {
   "cell_type": "code",
   "execution_count": 43,
   "metadata": {},
   "outputs": [
    {
     "name": "stdout",
     "output_type": "stream",
     "text": [
      "              precision    recall  f1-score   support\n",
      "\n",
      "           0       0.77      0.97      0.86     10500\n",
      "           1       0.58      0.15      0.23      3500\n",
      "\n",
      "    accuracy                           0.76     14000\n",
      "   macro avg       0.68      0.56      0.55     14000\n",
      "weighted avg       0.73      0.76      0.70     14000\n",
      "\n"
     ]
    }
   ],
   "source": [
    "print(classification_report(y_data, predictions_skl))"
   ]
  },
  {
   "cell_type": "markdown",
   "metadata": {},
   "source": [
    "# Alignment of training data"
   ]
  },
  {
   "cell_type": "code",
   "execution_count": 44,
   "metadata": {},
   "outputs": [],
   "source": [
    "value_counts = df['Default'].value_counts(dropna=False)\n",
    "value_0 = value_counts[0]\n",
    "value_1 = value_counts[1]"
   ]
  },
  {
   "cell_type": "code",
   "execution_count": 45,
   "metadata": {},
   "outputs": [],
   "source": [
    "df_0 = df[df['Default'] == 0].sample(n=min(value_0, value_1))\n",
    "df_1 = df[df['Default'] == 1].sample(n=min(value_0, value_1))"
   ]
  },
  {
   "cell_type": "code",
   "execution_count": 46,
   "metadata": {},
   "outputs": [],
   "source": [
    "df_sampled = pd.concat([df_0, df_1])"
   ]
  },
  {
   "cell_type": "markdown",
   "metadata": {},
   "source": [
    "After equating data 0 and 1 to 3500 pieces, we repeat the previous steps"
   ]
  },
  {
   "cell_type": "code",
   "execution_count": 47,
   "metadata": {},
   "outputs": [
    {
     "name": "stderr",
     "output_type": "stream",
     "text": [
      "C:\\Users\\barte\\AppData\\Local\\Temp\\ipykernel_3872\\880867327.py:1: FutureWarning: The default value of numeric_only in DataFrame.corr is deprecated. In a future version, it will default to False. Select only valid columns or specify the value of numeric_only to silence this warning.\n",
      "  correlation_4 = df_sampled.corr(method = 'spearman')\n"
     ]
    }
   ],
   "source": [
    "correlation_4 = df_sampled.corr(method = 'spearman')"
   ]
  },
  {
   "cell_type": "code",
   "execution_count": 48,
   "metadata": {},
   "outputs": [],
   "source": [
    "sorted_correlations_2 = correlation_4['Default'].sort_values()\n",
    "first_50 = sorted_correlations_2[:50]\n",
    "last_50 = sorted_correlations_2[-50:]"
   ]
  },
  {
   "cell_type": "code",
   "execution_count": 49,
   "metadata": {},
   "outputs": [],
   "source": [
    "x_data = pd.DataFrame(first_50)\n",
    "last_50_df = pd.DataFrame(last_50)\n",
    "x_data = pd.concat([x_data, last_50_df])\n",
    "x_data = df_sampled[x_data.index]\n",
    "x_data = x_data.iloc[:, :-1]"
   ]
  },
  {
   "cell_type": "code",
   "execution_count": 50,
   "metadata": {},
   "outputs": [],
   "source": [
    "y_data = df_sampled.Default"
   ]
  },
  {
   "cell_type": "code",
   "execution_count": 51,
   "metadata": {},
   "outputs": [],
   "source": [
    "X_train, X_test, y_train, y_test = train_test_split(x_data, y_data, test_size = 0.25, random_state = 71)"
   ]
  },
  {
   "cell_type": "markdown",
   "metadata": {},
   "source": [
    "# Random Forest Classifier"
   ]
  },
  {
   "cell_type": "code",
   "execution_count": 52,
   "metadata": {},
   "outputs": [],
   "source": [
    "rfc = RandomForestClassifier(n_estimators=200)\n",
    "rfc.fit(X_train, y_train)\n",
    "pred_rfc = rfc.predict(X_test)"
   ]
  },
  {
   "cell_type": "code",
   "execution_count": 53,
   "metadata": {},
   "outputs": [
    {
     "data": {
      "image/png": "[encoded data removed]",
      "text/plain": [
       "<Figure size 640x480 with 1 Axes>"
      ]
     },
     "metadata": {},
     "output_type": "display_data"
    }
   ],
   "source": [
    "cm = confusion_matrix(y_test, pred_rfc)\n",
    "fig = plt.figure()\n",
    "ax = fig.add_subplot(111)\n",
    "cax = ax.matshow(cm)\n",
    "sns.heatmap(cm, annot=True, fmt='g', vmin=0, cmap='Blues', cbar=False)\n",
    "labels = ['Niespłaci', 'Spłaci']\n",
    "ax.set_xticklabels(labels)\n",
    "ax.set_yticklabels(labels)\n",
    "plt.xlabel('Predicted')\n",
    "plt.ylabel('True')\n",
    "plt.show()"
   ]
  },
  {
   "cell_type": "code",
   "execution_count": 54,
   "metadata": {},
   "outputs": [
    {
     "name": "stdout",
     "output_type": "stream",
     "text": [
      "              precision    recall  f1-score   support\n",
      "\n",
      "           0       0.90      0.87      0.89       879\n",
      "           1       0.88      0.91      0.89       871\n",
      "\n",
      "    accuracy                           0.89      1750\n",
      "   macro avg       0.89      0.89      0.89      1750\n",
      "weighted avg       0.89      0.89      0.89      1750\n",
      "\n"
     ]
    }
   ],
   "source": [
    "print(classification_report(y_test, pred_rfc))"
   ]
  },
  {
   "cell_type": "markdown",
   "metadata": {},
   "source": [
    "# Logistic regression"
   ]
  },
  {
   "cell_type": "code",
   "execution_count": 55,
   "metadata": {},
   "outputs": [],
   "source": [
    "reg_log = LogisticRegression()\n",
    "reg_log.fit(X_train, y_train)\n",
    "\n",
    "pred_skl = reg_log.predict(X_test)"
   ]
  },
  {
   "cell_type": "code",
   "execution_count": 56,
   "metadata": {},
   "outputs": [
    {
     "data": {
      "image/png": "[encoded data removed]",
      "text/plain": [
       "<Figure size 640x480 with 1 Axes>"
      ]
     },
     "metadata": {},
     "output_type": "display_data"
    }
   ],
   "source": [
    "cm = confusion_matrix(y_test, pred_skl)\n",
    "fig = plt.figure()\n",
    "ax = fig.add_subplot(111)\n",
    "cax = ax.matshow(cm)\n",
    "sns.heatmap(cm, annot=True, fmt='g', vmin=0, cmap='Blues', cbar=False)\n",
    "labels = ['Niespłaci', 'Spłaci']\n",
    "ax.set_xticklabels(labels)\n",
    "ax.set_yticklabels(labels)\n",
    "plt.xlabel('Predicted')\n",
    "plt.ylabel('True')\n",
    "plt.show()"
   ]
  },
  {
   "cell_type": "code",
   "execution_count": 57,
   "metadata": {},
   "outputs": [
    {
     "name": "stdout",
     "output_type": "stream",
     "text": [
      "              precision    recall  f1-score   support\n",
      "\n",
      "           0       0.60      0.62      0.61       879\n",
      "           1       0.60      0.58      0.59       871\n",
      "\n",
      "    accuracy                           0.60      1750\n",
      "   macro avg       0.60      0.60      0.60      1750\n",
      "weighted avg       0.60      0.60      0.60      1750\n",
      "\n"
     ]
    }
   ],
   "source": [
    "print(classification_report(y_test, pred_skl))"
   ]
  },
  {
   "cell_type": "markdown",
   "metadata": {},
   "source": [
    "# Cross-validation"
   ]
  },
  {
   "cell_type": "markdown",
   "metadata": {},
   "source": [
    "Random Forest Classifier"
   ]
  },
  {
   "cell_type": "code",
   "execution_count": 58,
   "metadata": {},
   "outputs": [],
   "source": [
    "predictions_rfc = cross_val_predict(rfc, x_data, y_data, cv=5)"
   ]
  },
  {
   "cell_type": "code",
   "execution_count": 59,
   "metadata": {},
   "outputs": [
    {
     "name": "stdout",
     "output_type": "stream",
     "text": [
      "              precision    recall  f1-score   support\n",
      "\n",
      "           0       0.89      0.87      0.88      3500\n",
      "           1       0.88      0.90      0.89      3500\n",
      "\n",
      "    accuracy                           0.88      7000\n",
      "   macro avg       0.88      0.88      0.88      7000\n",
      "weighted avg       0.88      0.88      0.88      7000\n",
      "\n"
     ]
    }
   ],
   "source": [
    "print(classification_report(y_data, predictions_rfc))"
   ]
  },
  {
   "cell_type": "markdown",
   "metadata": {},
   "source": [
    "Logistic regression"
   ]
  },
  {
   "cell_type": "code",
   "execution_count": 60,
   "metadata": {},
   "outputs": [],
   "source": [
    "predictions_skl = cross_val_predict(reg_log, x_data, y_data, cv=5)"
   ]
  },
  {
   "cell_type": "code",
   "execution_count": 61,
   "metadata": {},
   "outputs": [
    {
     "name": "stdout",
     "output_type": "stream",
     "text": [
      "              precision    recall  f1-score   support\n",
      "\n",
      "           0       0.60      0.67      0.63      3500\n",
      "           1       0.63      0.56      0.59      3500\n",
      "\n",
      "    accuracy                           0.61      7000\n",
      "   macro avg       0.61      0.61      0.61      7000\n",
      "weighted avg       0.61      0.61      0.61      7000\n",
      "\n"
     ]
    }
   ],
   "source": [
    "print(classification_report(y_data, predictions_skl))"
   ]
  }
 ],
 "metadata": {
  "colab": {
   "authorship_tag": "ABX9TyNNtYBYHDpG7uTOZ0yrQdCm",
   "mount_file_id": "1mC3nmumeUpaGaB3ttCZIY1-gzKIP99IA",
   "provenance": []
  },
  "kernelspec": {
   "display_name": "Python 3 (ipykernel)",
   "language": "python",
   "name": "python3"
  },
  "language_info": {
   "codemirror_mode": {
    "name": "ipython",
    "version": 3
   },
   "file_extension": ".py",
   "mimetype": "text/x-python",
   "name": "python",
   "nbconvert_exporter": "python",
   "pygments_lexer": "ipython3",
   "version": "3.11.4"
  }
 },
 "nbformat": 4,
 "nbformat_minor": 1
}
